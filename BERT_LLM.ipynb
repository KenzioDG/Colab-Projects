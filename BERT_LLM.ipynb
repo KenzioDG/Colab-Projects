{
  "cells": [
    {
      "cell_type": "markdown",
      "metadata": {
        "id": "view-in-github",
        "colab_type": "text"
      },
      "source": [
        "<a href=\"https://colab.research.google.com/github/KenzioDG/Colab-Projects/blob/main/BERT_LLM.ipynb\" target=\"_parent\"><img src=\"https://colab.research.google.com/assets/colab-badge.svg\" alt=\"Open In Colab\"/></a>"
      ]
    },
    {
      "cell_type": "markdown",
      "metadata": {
        "id": "_4GLMxkwRuXE"
      },
      "source": []
    },
    {
      "cell_type": "markdown",
      "metadata": {
        "id": "Wd3REAViTqWr"
      },
      "source": [
        "\n",
        "\n",
        "Analisis dataset ini bertujuan untuk mendapatkan komparasi model klasifikasi data text yang berupa deskripsi produk dari website e-commerce, yang terdiri dari emoat label: _Household, Books, Electronics, dan Clothing & Accessories_.\n",
        "- Pada tahap awal, dataset akan melalui proses pre-processing untuk mengolah teks deskripsi menjadi bentuk dasar sesuai dengan tata bahasa standar. Proses ini akan mencakup langkah-langkah seperti penghapusan karakter non-alfanumerik, tokenisasi, penghapusan kata-kata yang tidak relevan (stop words), dan lemmatisasi untuk mengubah kata-kata ke dalam bentuk dasar.\n",
        "\n",
        "- Setelah pre-processing, dilakukan vectorization untuk mengubah teks menjadi representasi numerik yang dapat digunakan oleh algoritma machine learning.\n",
        "\n",
        "- Kemudian dibandingkan dua metode vectorization, yaitu Bag of Words dan TF-IDF, serta dua algoritma machine learning, yaitu Naive Bayes dan Random Forest Classifier. Dengan membandingkan hasil dan performa dari kombinasi vectorizer dan model klasifikasi yang berbeda, maka dapat didapatkan komparasi kemampuan dan kecocokan metode algoritma yang digunakan dalam melakukan klasifikasi pada dataset ini."
      ]
    },
    {
      "cell_type": "code",
      "execution_count": null,
      "metadata": {
        "id": "7U70nT9Akr_V"
      },
      "outputs": [],
      "source": [
        "import pandas as pd\n",
        "import nltk\n",
        "from sklearn.feature_extraction.text import CountVectorizer, TfidfVectorizer\n",
        "from sklearn.model_selection import train_test_split\n",
        "from sklearn.naive_bayes import MultinomialNB\n",
        "from sklearn.ensemble import RandomForestClassifier\n",
        "from sklearn.metrics import accuracy_score, classification_report\n",
        "import gdown\n",
        "from sklearn.metrics import accuracy_score, classification_report\n",
        "from sklearn.metrics.pairwise import cosine_similarity\n",
        "import numpy as np\n"
      ]
    },
    {
      "cell_type": "markdown",
      "metadata": {
        "id": "UQfvF0CQSn3V"
      },
      "source": [
        "Dengan library gdown, data dari link tautan Gdrive yang terbuka dapat langsung diunduh dan masuk ke dalam runtime colab. Hanya dibutuhkan file ID dari file yang ingin diunduh"
      ]
    },
    {
      "cell_type": "code",
      "execution_count": null,
      "metadata": {
        "colab": {
          "base_uri": "https://localhost:8080/"
        },
        "id": "UU4PAQAFumLN",
        "outputId": "eb0d2b9d-b521-4e9e-82ed-99936ab83abf"
      },
      "outputs": [
        {
          "output_type": "stream",
          "name": "stdout",
          "text": [
            "Downloading...\n",
            "From: https://drive.google.com/uc?id=16l1cSKGFrWahHq-ylAiPRQQuihfM5qZi\n",
            "To: /content/data_1A.csv\n",
            "\r  0% 0.00/9.28M [00:00<?, ?B/s]\r 96% 8.91M/9.28M [00:00<00:00, 88.7MB/s]\r100% 9.28M/9.28M [00:00<00:00, 91.2MB/s]\n"
          ]
        }
      ],
      "source": [
        "!gdown 16l1cSKGFrWahHq-ylAiPRQQuihfM5qZi"
      ]
    },
    {
      "cell_type": "markdown",
      "metadata": {
        "id": "-VeisT25TCAw"
      },
      "source": [
        "Pada kode di bawah ini, data dibaca dengan library pandas agar terformat dengan benar. Selanjutnya kolom teks pada dataset diubah tipe datanya sebagai string, karena tanpa perubahan manual ini biasanya ada masalah ketidakcocokan tipe data pada tahap-tahap selanjutnya"
      ]
    },
    {
      "cell_type": "code",
      "execution_count": null,
      "metadata": {
        "colab": {
          "base_uri": "https://localhost:8080/"
        },
        "id": "87PWt59YmaHq",
        "outputId": "694b2d7b-ebd4-4b73-bb33-44ce8a3c8ac8"
      },
      "outputs": [
        {
          "output_type": "stream",
          "name": "stdout",
          "text": [
            "   Unnamed: 0                                               text      label\n",
            "0           0  The Theory of Everything Review Stephen Hawkin...      Books\n",
            "1           1  Computer Networks: A Top - Down Approach About...      Books\n",
            "2           2  Sajani Premium Quality Brown Wooden Coat Hange...  Household\n",
            "3           3  Bosch Lifestyle MCM3501M 800-Watt Food Process...  Household\n",
            "4           4  Secret Wish Women's Navy-Blue Towel Bathrobe (...  Household\n",
            "Household                 4832\n",
            "Books                     2951\n",
            "Electronics               2643\n",
            "Clothing & Accessories    2180\n",
            "Name: label, dtype: int64\n"
          ]
        }
      ],
      "source": [
        "data = pd.read_csv('data_1A.csv')\n",
        "print(data.head())\n",
        "print(data['label'].value_counts())\n",
        "data['text'] = data['text'].astype(str)\n"
      ]
    },
    {
      "cell_type": "markdown",
      "metadata": {
        "id": "Ce9ThgjTVRWu"
      },
      "source": [
        "## Text Preprocessing"
      ]
    },
    {
      "cell_type": "markdown",
      "metadata": {
        "id": "miWiaK2MZyra"
      },
      "source": [
        "### Cleaning & Lemmatization"
      ]
    },
    {
      "cell_type": "markdown",
      "metadata": {
        "id": "h7HNuNZROwwK"
      },
      "source": [
        "Kemudiab di bawah akan dilakukan pengunduhan dari dua resource NLP, yaitu Wordnet dan punkt.\n",
        "\n",
        "**WordNet**\n",
        "\n",
        "\n",
        "---\n",
        "\n",
        "\n",
        "\n",
        "---\n",
        "\n",
        "\n",
        "WordNet menyediakan informasi tentang makna kata, hubungan antara kata (misalnya, sinonim, antonim, hiperonim, hiponim), dan pengelompokan kata ke dalam kelompok semantik yang disebut \"synset\" (synonym set). NLTK menggunakan WordNet sebagai salah satu sumber daya untuk melakukan lemmatisasi, yaitu mengubah kata ke dalam bentuk dasarnya. Lemmatisasi berguna untuk mengurangi variasi kata ke dalam bentuk yang standar agar dapat diolah lebih efisien.\n",
        "\n",
        "**Punkt**\n",
        "\n",
        "\n",
        "---\n",
        "\n",
        "\n",
        "\n",
        "---\n",
        "\n",
        "\n",
        "Punkt adalah model yang dilatih untuk melakukan tokenisasi pada teks bahasa Inggris. Tokenisasi adalah proses memecah teks menjadi unit-unit yang lebih kecil, seperti kata-kata atau kalimat. Model Punkt yang disediakan oleh NLTK adalah model yang dilatih secara khusus untuk teks bahasa Inggris. Punkt digunakan oleh NLTK untuk memecah teks menjadi token-token yang lebih kecil sehingga dapat diolah dengan lebih baik, misalnya dalam pemrosesan teks, analisis kata, dan langkah-langkah lainnya yang melibatkan pemisahan teks menjadi bagian-bagian yang lebih terdefinisi.\n",
        "\n",
        "---\n",
        "\n",
        "\n",
        "\n",
        "---\n",
        "\n",
        "\n",
        "Dengan mengunduh WordNet dan Punkt melalui NLTK, kita memiliki akses ke dua sumber daya penting yang membantu dalam pemrosesan bahasa alami, seperti lemmatisasi kata dan tokenisasi teks. Hal ini memudahkan kita untuk melakukan tahap-tahap preprocessing pada teks, seperti mengubah kata ke dalam bentuk dasarnya dan memecah teks menjadi unit-unit yang lebih kecil yang dapat diolah lebih lanjut."
      ]
    },
    {
      "cell_type": "code",
      "execution_count": null,
      "metadata": {
        "colab": {
          "base_uri": "https://localhost:8080/"
        },
        "id": "dIZh_3lIC1Rd",
        "outputId": "66cace2b-a86b-441f-a928-cb2d4a88760c"
      },
      "outputs": [
        {
          "output_type": "stream",
          "name": "stderr",
          "text": [
            "[nltk_data] Downloading package punkt to /root/nltk_data...\n",
            "[nltk_data]   Package punkt is already up-to-date!\n",
            "[nltk_data] Downloading package wordnet to /root/nltk_data...\n",
            "[nltk_data]   Package wordnet is already up-to-date!\n"
          ]
        },
        {
          "output_type": "execute_result",
          "data": {
            "text/plain": [
              "True"
            ]
          },
          "metadata": {},
          "execution_count": 4
        }
      ],
      "source": [
        "from nltk.corpus import stopwords\n",
        "from nltk.stem import WordNetLemmatizer\n",
        "from nltk.tokenize import word_tokenize\n",
        "import re\n",
        "nltk.download('punkt')\n",
        "nltk.download('wordnet')"
      ]
    },
    {
      "cell_type": "markdown",
      "metadata": {
        "id": "fM_-k-rpVMiG"
      },
      "source": [
        "Lalu langsung saja dibuat fungsi untuk melakukan pembersihan text dengan beberapa parameter:\n",
        "\n",
        "`[^\\w\\s]`: </br>\n",
        "Ini adalah karakter set yang menunjukkan karakter apa yang akan dihapus. [^\\w\\s] berarti semua karakter yang bukan alfanumerik (\\w) dan bukan spasi (\\s) akan dihapus. Dengan ini, karakter khusus seperti tanda baca, simbol, dan karakter khusus lainnya akan dihapus dari teks.\n",
        "\n",
        "`http[s]?://\\S+`:</br>\n",
        "Ini adalah pola yang digunakan untuk mendeteksi URL dalam teks. Pada pola ini, ada pencocokkan string yang dimulai dengan http:// atau https://, kemudian diikuti oleh satu atau lebih karakter yang bukan spasi (\\S+). Dengan ini, URL yang terdapat dalam teks akan dihapus.\n",
        "\n",
        "`''`:</br>\n",
        "Ini adalah string kosong yang digunakan sebagai pengganti untuk karakter yang cocok dengan pola yang ditentukan. Dalam kasus ini, karakter yang cocok dengan pola akan dihapus dari teks.\n",
        "</br>\n",
        "Jadi, secara keseluruhan, dengan menggunakan re.sub(r'[^\\w\\s]|http[s]?://\\S+', '', text), kita melakukan substitusi atau penggantian semua karakter khusus dan URL dalam teks dengan string kosong, sehingga menghapusnya dari teks.\n",
        "\n",
        "\n",
        "---\n",
        "\n",
        "\n",
        "Lali dibuat objek WordNetLemmatizer dari NLTK. WordNetLemmatizer digunakan untuk melakukan lemmatisasi kata dalam teks, yaitu mengubah kata-kata ke dalam bentuk dasarnya.\n",
        "\n"
      ]
    },
    {
      "cell_type": "markdown",
      "metadata": {
        "id": "v7_OcQ40W2qA"
      },
      "source": []
    },
    {
      "cell_type": "code",
      "execution_count": null,
      "metadata": {
        "colab": {
          "base_uri": "https://localhost:8080/"
        },
        "id": "1TWLVqO7CQuW",
        "outputId": "0b981373-4b2a-4396-a69a-12438e7dbb6c"
      },
      "outputs": [
        {
          "output_type": "stream",
          "name": "stderr",
          "text": [
            "[nltk_data] Downloading package stopwords to /root/nltk_data...\n",
            "[nltk_data]   Package stopwords is already up-to-date!\n"
          ]
        }
      ],
      "source": [
        "# Download stopwords (hanya perlu dilakukan sekali)\n",
        "nltk.download('stopwords')\n",
        "\n",
        "lemmatizer = WordNetLemmatizer()\n",
        "\n",
        "def preprocess_text(text):\n",
        "    # Menghapus karakter khusus\n",
        "    text = re.sub(r'[^\\w\\s]|http[s]?://\\S+', '', text)\n",
        "\n",
        "    # Tokenisasi\n",
        "    tokens = word_tokenize(text)\n",
        "\n",
        "    # Mengubah teks menjadi lowercase\n",
        "    tokens = [token.lower() for token in tokens]\n",
        "\n",
        "    # Menghapus stopwords dan menerapkan lemmatization\n",
        "    stop_words = set(stopwords.words('english'))\n",
        "    tokens = [lemmatizer.lemmatize(token) for token in tokens if token not in stop_words]\n",
        "\n",
        "    return ' '.join(tokens)\n",
        "\n",
        "data['processed_text'] = data['text'].apply(preprocess_text)\n"
      ]
    },
    {
      "cell_type": "markdown",
      "metadata": {
        "id": "i6uJCo9mYAlL"
      },
      "source": [
        "Maka di bawah ini adalah hasil teks setelah melalui fungsi preprocessing di atas"
      ]
    },
    {
      "cell_type": "code",
      "execution_count": null,
      "metadata": {
        "colab": {
          "base_uri": "https://localhost:8080/"
        },
        "id": "mcY75xbwNdUt",
        "outputId": "bb980405-cca8-4f03-ddd0-29b6b4965d64"
      },
      "outputs": [
        {
          "output_type": "execute_result",
          "data": {
            "text/plain": [
              "0    theory everything review stephen hawking theor...\n",
              "1    computer network top approach author behrouz f...\n",
              "2    sajani premium quality brown wooden coat hange...\n",
              "3    bosch lifestyle mcm3501m 800watt food processo...\n",
              "4    secret wish woman navyblue towel bathrobe free...\n",
              "Name: processed_text, dtype: object"
            ]
          },
          "metadata": {},
          "execution_count": 6
        }
      ],
      "source": [
        "data['processed_text'].head()"
      ]
    },
    {
      "cell_type": "markdown",
      "metadata": {
        "id": "u1s8kE9iZsS7"
      },
      "source": [
        "### Vectorization"
      ]
    },
    {
      "cell_type": "markdown",
      "metadata": {
        "id": "H6-8DdIraTuy"
      },
      "source": [
        "Terdapat dua metode vectorisasi yang digunakan, yaitu Bag of Words (BoW) dan TF-IDF. Berikut adalah penjelasan singkat tentang kedua metode tersebut:\n",
        "\n",
        "**Bag of Words (BoW):**\n",
        "\n",
        "\n",
        "---\n",
        "\n",
        "\n",
        "Bag of Words adalah metode vectorisasi yang sederhana. Pada metode ini, setiap kata dalam teks dianggap sebagai fitur dan dihitung frekuensi kemunculannya dalam setiap dokumen. Matriks BoW dibentuk dengan kolom-kolom yang merepresentasikan kata-kata unik dalam dataset, dan baris-baris yang merepresentasikan dokumen-dokumen atau sampel-sampel teks. Nilai dalam matriks ini menunjukkan jumlah kemunculan kata dalam setiap dokumen. Dengan menggunakan CountVectorizer dari library scikit-learn, kita dapat dengan mudah mengimplementasikan metode BoW.\n",
        "\n",
        "**TF-IDF (Term Frequency-Inverse Document Frequency):**\n",
        "\n",
        "\n",
        "---\n",
        "\n",
        "\n",
        "TF-IDF adalah metode vectorisasi yang menggabungkan informasi tentang frekuensi kata dalam sebuah dokumen dengan informasi tentang seberapa umum kata tersebut dalam keseluruhan dataset. Ini membantu mengurangi bobot kata-kata yang umum dalam semua dokumen dan meningkatkan bobot kata-kata yang khusus untuk sebuah dokumen. TF-IDF menghitung dua nilai: Term Frequency (TF), yang menunjukkan frekuensi kemunculan kata dalam sebuah dokumen, dan Inverse Document Frequency (IDF), yang menunjukkan seberapa umum kata tersebut dalam semua dokumen.\n",
        "\n",
        "\n",
        "---\n",
        "\n",
        "\n",
        "\n",
        "---\n",
        "\n",
        "\n",
        "Kedua metode ini menghasilkan representasi vektor numerik dari teks, di mana setiap dimensi dalam vektor ini merepresentasikan fitur kata-kata atau istilah-istilah dalam teks. Representasi vektor ini dapat digunakan sebagai input untuk algoritma machine learning seperti Naive Bayes atau Random Forest Classifier yang telah digunakan dalam kode tersebut. Dengan melakukan vectorization, teks menjadi bentuk yang dapat dipahami oleh algoritma machine learning dan memungkinkan agar dapat melakukan klasifikasi atau analisis lainnya berdasarkan fitur-fitur teks tersebut.\n",
        "\n",
        "\n",
        "\n",
        "\n"
      ]
    },
    {
      "cell_type": "code",
      "execution_count": null,
      "metadata": {
        "id": "moxZKXpiCyGC"
      },
      "outputs": [],
      "source": [
        "# Bag of Words (CountVectorizer)\n",
        "count_vectorizer = CountVectorizer()\n",
        "count_vector = count_vectorizer.fit_transform(data['processed_text'])\n",
        "\n",
        "# Term Frequency-Inverse Document Frequency (TfidfVectorizer)\n",
        "tfidf_vectorizer = TfidfVectorizer()\n",
        "tfidf_vector = tfidf_vectorizer.fit_transform(data['processed_text'])\n"
      ]
    },
    {
      "cell_type": "markdown",
      "metadata": {
        "id": "zwsnIfpvaFMD"
      },
      "source": [
        "## Modelling dengan Naive Bayes dan Random Forest"
      ]
    },
    {
      "cell_type": "markdown",
      "metadata": {
        "id": "Cziy0p4LkLzq"
      },
      "source": [
        "Data displit menjadi train set dan test set, lalu inisialisasi vectorizer untuk pemodelan agar memakai segala opsi sekaligus"
      ]
    },
    {
      "cell_type": "code",
      "execution_count": null,
      "metadata": {
        "id": "IVuBMRj0D3np"
      },
      "outputs": [],
      "source": [
        "# Splitting the data into training and test sets\n",
        "X_train, X_test, y_train, y_test = train_test_split(data['processed_text'], data['label'], test_size=0.2, random_state=69)\n",
        "\n",
        "\n",
        "vectorizers = [\n",
        "    ('CountVectorizer', CountVectorizer()),\n",
        "    ('TfidfVectorizer', TfidfVectorizer())\n",
        "]"
      ]
    },
    {
      "cell_type": "markdown",
      "metadata": {
        "id": "Nuo6OkShk8yU"
      },
      "source": [
        "Lalu akan dijalankan kode untuk memfitting data pada model\n",
        "\n",
        "- Dalam setiap iterasi loop vectorizer, data train (X_train) akan diubah menjadi representasi vektor menggunakan fit_transform(). Kemudian, data test (X_test) akan diubah menjadi representasi vektor menggunakan transform(). Representasi vektor ini akan digunakan sebagai fitur dalam model klasifikasi.\n",
        "\n",
        "- Setelah vectorisasi data, kita memiliki loop untuk setiap model klasifikasi yang diberikan dalam variabel models. Pada setiap iterasi, model_name akan berisi nama model, dan model akan berisi objek model klasifikasi yang sesuai.\n",
        "\n",
        "- Setelah melatih model, kita dapat melakukan prediksi pada data uji dengan memanggil metode predict() pada objek model dengan menggunakan data uji yang telah divetorisasi (X_test_vectorized). Hasil prediksi disimpan dalam variabel y_pred.\n",
        "\n",
        "- Dalam loop pertama, dilakukan vectorisasi dengan vectorizer pertama, dan di dalam loop kedua, dilakukan pelatihan dan evaluasi model dengan model pertama. Setelah itu, loop dilakukan untuk vectorizer kedua dan seterusnya, sehingga semua kombinasi vectorizer dan model akan dijalankan."
      ]
    },
    {
      "cell_type": "code",
      "execution_count": null,
      "metadata": {
        "colab": {
          "base_uri": "https://localhost:8080/"
        },
        "id": "15eJZ1YHE48H",
        "outputId": "0bf3f1a4-6844-4713-dae0-e4ac8aba7832"
      },
      "outputs": [
        {
          "output_type": "stream",
          "name": "stdout",
          "text": [
            "CountVectorizer + Naive Bayes\n",
            "Accuracy: 0.9432989690721649\n",
            "                        precision    recall  f1-score   support\n",
            "\n",
            "                 Books       0.97      0.91      0.94       593\n",
            "Clothing & Accessories       0.96      0.97      0.97       447\n",
            "           Electronics       0.93      0.93      0.93       542\n",
            "             Household       0.92      0.96      0.94       940\n",
            "\n",
            "              accuracy                           0.94      2522\n",
            "             macro avg       0.95      0.94      0.95      2522\n",
            "          weighted avg       0.94      0.94      0.94      2522\n",
            "\n",
            "---\n",
            "CountVectorizer + Random Forest Classifier\n",
            "Accuracy: 0.9389373513084853\n",
            "                        precision    recall  f1-score   support\n",
            "\n",
            "                 Books       0.95      0.94      0.95       593\n",
            "Clothing & Accessories       0.96      0.96      0.96       447\n",
            "           Electronics       0.96      0.89      0.92       542\n",
            "             Household       0.91      0.96      0.93       940\n",
            "\n",
            "              accuracy                           0.94      2522\n",
            "             macro avg       0.95      0.94      0.94      2522\n",
            "          weighted avg       0.94      0.94      0.94      2522\n",
            "\n",
            "---\n",
            "TfidfVectorizer + Naive Bayes\n",
            "Accuracy: 0.9167327517842981\n",
            "                        precision    recall  f1-score   support\n",
            "\n",
            "                 Books       0.98      0.90      0.94       593\n",
            "Clothing & Accessories       0.98      0.87      0.92       447\n",
            "           Electronics       0.97      0.86      0.91       542\n",
            "             Household       0.84      0.98      0.90       940\n",
            "\n",
            "              accuracy                           0.92      2522\n",
            "             macro avg       0.94      0.90      0.92      2522\n",
            "          weighted avg       0.93      0.92      0.92      2522\n",
            "\n",
            "---\n",
            "TfidfVectorizer + Random Forest Classifier\n",
            "Accuracy: 0.9318001586042823\n",
            "                        precision    recall  f1-score   support\n",
            "\n",
            "                 Books       0.96      0.94      0.95       593\n",
            "Clothing & Accessories       0.97      0.94      0.95       447\n",
            "           Electronics       0.96      0.86      0.91       542\n",
            "             Household       0.89      0.96      0.93       940\n",
            "\n",
            "              accuracy                           0.93      2522\n",
            "             macro avg       0.94      0.93      0.93      2522\n",
            "          weighted avg       0.93      0.93      0.93      2522\n",
            "\n",
            "---\n"
          ]
        }
      ],
      "source": [
        "for vectorizer_name, vectorizer in vectorizers:\n",
        "    X_train_vectorized = vectorizer.fit_transform(X_train)\n",
        "    X_test_vectorized = vectorizer.transform(X_test)\n",
        "\n",
        "    # Classification models\n",
        "    models = [\n",
        "        ('Naive Bayes', MultinomialNB()),\n",
        "        ('Random Forest Classifier', RandomForestClassifier())\n",
        "    ]\n",
        "\n",
        "    for model_name, model in models:\n",
        "        # Fitting the model\n",
        "        model.fit(X_train_vectorized, y_train)\n",
        "\n",
        "        # Predictions\n",
        "        y_pred = model.predict(X_test_vectorized)\n",
        "\n",
        "        # Model evaluation\n",
        "        accuracy = accuracy_score(y_test, y_pred)\n",
        "        report = classification_report(y_test, y_pred)\n",
        "\n",
        "        print(f'{vectorizer_name} + {model_name}')\n",
        "        print('Accuracy:', accuracy)\n",
        "        print(report)\n",
        "        print('---')"
      ]
    },
    {
      "cell_type": "markdown",
      "metadata": {
        "id": "UbwoY5zYnfJ7"
      },
      "source": [
        "**Recall** mengukur sejauh mana model mampu mengidentifikasi keseluruhan jumlah sampel yang relevan dalam kategori tertentu. Dalam kata lain, recall mengukur kemampuan model untuk mendeteksi semua positif yang sebenarnya. Recall dihitung dengan membagi jumlah positif yang terklasifikasi dengan benar (true positive) oleh jumlah positif yang sebenarnya (true positive + false negative).\n",
        "\n",
        "**Support** adalah jumlah sampel yang terdapat dalam kategori tertentu dalam data uji. Dalam laporan klasifikasi, support mencerminkan jumlah data yang termasuk dalam setiap kategori yang dievaluasi. Support memberikan gambaran tentang seberapa besar kategori tersebut muncul dalam data uji.\n",
        "\n",
        "\n",
        "---\n",
        "\n",
        "\n",
        "\n",
        "---\n",
        "\n",
        "\n",
        "\n",
        "Berdasarkan hasil klasifikasi, dapat dilihat bahwa penggunaan CountVectorizer memberikan hasil yang sedikit lebih baik daripada TfidfVectorizer dalam hal akurasi dan beberapa metrik evaluasi lainnya. Namun, perbedaannya tidak signifikan. Sedangkan, perbandingan antara Naive Bayes dan Random Forest Classifier menunjukkan bahwa kedua model tersebut memberikan hasil yang serupa dalam kasus ini. Oleh karena itu, pemilihan model tergantung pada preferensi dan kebutuhan spesifik dari masalah klasifikasi yang sedang dihadapi."
      ]
    },
    {
      "cell_type": "markdown",
      "metadata": {
        "id": "u0LlWdfzoUP0"
      },
      "source": [
        "# Penggunaan BERT"
      ]
    },
    {
      "cell_type": "markdown",
      "source": [
        "Pada kasus ini, dapat digunakan suatu model LLM (Large Language Model) untuk membuat klasifikasi yang lebih handal dari model dengan teknik Machine Learning seperti sebelumnya. Pada kasus ini saya menggunakan BERT model yang cukup populer digunakan untuk tujuan klasifikasi. Selain itu pada kasus ini juga harus menggunakan 2 hyparameter tuning."
      ],
      "metadata": {
        "id": "oX_oy2FGH7QO"
      }
    },
    {
      "cell_type": "code",
      "execution_count": null,
      "metadata": {
        "colab": {
          "base_uri": "https://localhost:8080/"
        },
        "id": "03u6FHivpm2x",
        "outputId": "7700fd94-5814-4aec-b37e-3da337101d7e"
      },
      "outputs": [
        {
          "output_type": "stream",
          "name": "stdout",
          "text": [
            "Requirement already satisfied: transformers in /usr/local/lib/python3.10/dist-packages (4.30.2)\n",
            "Requirement already satisfied: filelock in /usr/local/lib/python3.10/dist-packages (from transformers) (3.12.2)\n",
            "Requirement already satisfied: huggingface-hub<1.0,>=0.14.1 in /usr/local/lib/python3.10/dist-packages (from transformers) (0.15.1)\n",
            "Requirement already satisfied: numpy>=1.17 in /usr/local/lib/python3.10/dist-packages (from transformers) (1.22.4)\n",
            "Requirement already satisfied: packaging>=20.0 in /usr/local/lib/python3.10/dist-packages (from transformers) (23.1)\n",
            "Requirement already satisfied: pyyaml>=5.1 in /usr/local/lib/python3.10/dist-packages (from transformers) (6.0)\n",
            "Requirement already satisfied: regex!=2019.12.17 in /usr/local/lib/python3.10/dist-packages (from transformers) (2022.10.31)\n",
            "Requirement already satisfied: requests in /usr/local/lib/python3.10/dist-packages (from transformers) (2.27.1)\n",
            "Requirement already satisfied: tokenizers!=0.11.3,<0.14,>=0.11.1 in /usr/local/lib/python3.10/dist-packages (from transformers) (0.13.3)\n",
            "Requirement already satisfied: safetensors>=0.3.1 in /usr/local/lib/python3.10/dist-packages (from transformers) (0.3.1)\n",
            "Requirement already satisfied: tqdm>=4.27 in /usr/local/lib/python3.10/dist-packages (from transformers) (4.65.0)\n",
            "Requirement already satisfied: fsspec in /usr/local/lib/python3.10/dist-packages (from huggingface-hub<1.0,>=0.14.1->transformers) (2023.6.0)\n",
            "Requirement already satisfied: typing-extensions>=3.7.4.3 in /usr/local/lib/python3.10/dist-packages (from huggingface-hub<1.0,>=0.14.1->transformers) (4.6.3)\n",
            "Requirement already satisfied: urllib3<1.27,>=1.21.1 in /usr/local/lib/python3.10/dist-packages (from requests->transformers) (1.26.16)\n",
            "Requirement already satisfied: certifi>=2017.4.17 in /usr/local/lib/python3.10/dist-packages (from requests->transformers) (2023.5.7)\n",
            "Requirement already satisfied: charset-normalizer~=2.0.0 in /usr/local/lib/python3.10/dist-packages (from requests->transformers) (2.0.12)\n",
            "Requirement already satisfied: idna<4,>=2.5 in /usr/local/lib/python3.10/dist-packages (from requests->transformers) (3.4)\n"
          ]
        }
      ],
      "source": [
        "!pip install transformers"
      ]
    },
    {
      "cell_type": "code",
      "source": [
        "import logging\n",
        "import pandas as pd\n",
        "from sklearn.model_selection import train_test_split\n",
        "from sklearn.metrics import classification_report, f1_score\n",
        "from transformers import BertTokenizer, BertForSequenceClassification, AdamW\n",
        "from tqdm import tqdm\n",
        "import torch\n",
        "from torch.utils.data import TensorDataset, DataLoader\n",
        "import optuna\n",
        "device = torch.device(\"cuda\" if torch.cuda.is_available() else \"cpu\")\n",
        "# Mengatur level logger ke WARNING untuk menghilangkan peringatan yang tidak perlu\n",
        "optuna.logging.set_verbosity(optuna.logging.WARNING)\n",
        "logging.getLogger(\"transformers\").setLevel(logging.WARNING)"
      ],
      "metadata": {
        "id": "BGzx3kkwyMcd"
      },
      "execution_count": null,
      "outputs": []
    },
    {
      "cell_type": "markdown",
      "source": [
        "### Encoding"
      ],
      "metadata": {
        "id": "a16fOK-sJuy9"
      }
    },
    {
      "cell_type": "markdown",
      "source": [
        "`tokenizer = BertTokenizer.from_pretrained('bert-base-uncased'):` Membuat objek tokenizer dengan menggunakan model BERT yang telah di-pretrained. Model yang digunakan dalam contoh ini adalah 'bert-base-uncased', yang merupakan versi BERT dengan huruf-huruf kecil (uncased).\n",
        "\n",
        "BERT (Bidirectional Encoder Representations from Transformers) adalah salah satu contoh besar dalam kategori Language Model (LM) yang dikembangkan oleh Google pada tahun 2018. Model ini merupakan hasil dari pelatihan secara unsupervised pada tugas-tugas bahasa, yang memungkinkannya untuk memahami dan menghasilkan representasi kata yang kaya dalam konteks kalimat.\n",
        "\n",
        "\n",
        "Model ini menerima input berupa teks yang sudah di-tokenisasi dan di-encoded, dan menghasilkan prediksi kategori untuk setiap teks.\n",
        "\n",
        "Selanjutnya dilakukan tokenisasi dan encoding teks menggunakan BERT dengan memanggil metode `batch_encode_plus()` pada tokenizer. Metode ini menghasilkan output berupa input_ids yang merupakan representasi token kata-kata dalam bentuk indeks numerik, attention_mask yang menunjukkan bagian mana dari teks yang harus diperhatikan oleh model, dan beberapa informasi tambahan yang dibutuhkan oleh model BERT.\n"
      ],
      "metadata": {
        "id": "QomjFp0RcyOu"
      }
    },
    {
      "cell_type": "code",
      "source": [
        "tokenizer = BertTokenizer.from_pretrained('bert-base-uncased')\n",
        "\n",
        "# Mengonversi label kategori menjadi angka\n",
        "label_mapping = {'Household': 0, 'Books': 1, 'Electronics': 2, 'Clothing & Accessories': 3}\n",
        "y_train_encoded = [label_mapping[label] for label in y_train]\n",
        "y_test_encoded = [label_mapping[label] for label in y_test]\n",
        "\n",
        "# Tokenisasi dan encoding teks menggunakan BERT\n",
        "X_train_encoded = tokenizer.batch_encode_plus(\n",
        "    X_train.tolist(),\n",
        "    truncation=True,\n",
        "    padding=True,\n",
        "    return_tensors=\"pt\"\n",
        ")\n",
        "X_test_encoded = tokenizer.batch_encode_plus(\n",
        "    X_test.tolist(),\n",
        "    truncation=True,\n",
        "    padding=True,\n",
        "    return_tensors=\"pt\"\n",
        ")\n",
        "\n",
        "# Membuat DataLoader untuk data latih dan data uji\n",
        "train_dataset = TensorDataset(X_train_encoded['input_ids'].squeeze(1),\n",
        "                              X_train_encoded['attention_mask'].squeeze(1),\n",
        "                              torch.tensor(y_train_encoded))\n",
        "test_dataset = TensorDataset(X_test_encoded['input_ids'].squeeze(1),\n",
        "                             X_test_encoded['attention_mask'].squeeze(1),\n",
        "                             torch.tensor(y_test_encoded))\n",
        "\n",
        "train_dataloader = DataLoader(train_dataset, batch_size=16, shuffle=True)\n",
        "test_dataloader = DataLoader(test_dataset, batch_size=16, shuffle=False)\n"
      ],
      "metadata": {
        "id": "keK3ThLRJFxl"
      },
      "execution_count": null,
      "outputs": []
    },
    {
      "cell_type": "markdown",
      "source": [
        "### Tuning Hyperparameter"
      ],
      "metadata": {
        "id": "35_zGOeOyOOj"
      }
    },
    {
      "cell_type": "markdown",
      "source": [
        "**Optuna** adalah sebuah framework untuk melakukan optimasi hyperparameter yang memungkinkan pencarian konfigurasi terbaik dari sekumpulan hyperparameter model yang ditentukan sendiri pada kode.\n",
        "\n",
        "Hyperparameter yang dituning dalam kasus ini adalah learning rate dan weight decay. **Learning rate** adalah parameter yang menentukan seberapa besar langkah yang diambil saat memperbarui bobot model selama pelatihan. **Weight decay** adalah parameter yang mengendalikan kekuatan regularisasi pada bobot model untuk mencegah overfitting.\n",
        "\n",
        "Pada kode di bawah, tuning dilakukan dengan trials 3 kali dan epoch masing-masing 3 kali, lalu lbrary `tqdm` digunakan untuk printing proses loading epoch"
      ],
      "metadata": {
        "id": "LnSjDM5Mey0y"
      }
    },
    {
      "cell_type": "code",
      "execution_count": null,
      "metadata": {
        "colab": {
          "base_uri": "https://localhost:8080/",
          "height": 929,
          "referenced_widgets": [
            "2e083673078346f19dea0bbe3f907362",
            "b461005f56124c958289a3feed057e6f",
            "4903e2606e014aa9a810984621bcd207",
            "41a1d8907d1c4c6bae2deb9cad755b3e",
            "eb4112e8ea964152b0b74763eec682eb",
            "627bd6daef824b5d93972585c119741f",
            "bd3ec93cbdc74aa89a248a75c9e53291",
            "afca59bd5d9745f89b7c1190c6f0aee9",
            "0253d8659d2448ca81a52f4e8160db16",
            "3725766ebad04e70bd2f3d1d9a301b3c",
            "56d45e9a40d14b859cb38c6f84152a2e",
            "41941337c34144cb8160c6f57fc73036",
            "e2357434bae241508cad23d4be7acd13",
            "a2d4e91705a049ff8fb43361f0577814",
            "09ce436f7d36422ea316ac2a2b3622d1",
            "19b79827d63847938c228818d175225f",
            "4a6ff187790445b091e1e9b33b12c8fb",
            "ad552ee6958c42d2bf900de024c02b7a",
            "05547671dc684c21ab8a006b6f7945fb",
            "9dd5af36fd78459fbe0ff02598c9a7d5",
            "4ceac27e416f40008fbf4e5c37a7d7dc",
            "760ed78d9b834b7fa2736d0c6823feec",
            "c3358a3614ee40f6b396b4de629c2814",
            "80fe14cc15f24e33bffa38436bf55b4c",
            "d4467f20efae4fceb4daab3cddbb2d9f",
            "68b289b2704b40289b2bff3d3cdd4022",
            "dd820122ce674a5bbe08b7844cb44a86",
            "a4e0620ae55e4ce7925fd0daee15f90c",
            "69173c732cf64098a894e5b47a7b81a3",
            "b5ecb1a1ab1a4851aa46275f885d15a5",
            "bd52510ba3a74ee298b87ba5782985e4",
            "276b6fd7ca3f41e2a048b8902ea2fb8f",
            "ec25747b8fee42318ccd1b33bf5809f9",
            "5af4bf5a507a4f9580c4914abce1c8e0",
            "87e595e821b8424089b6a81e100c8970",
            "906095ffc92647dfaf401f3efb66e752",
            "39d0dd0be89d4db68b9cd0e95e2a9b58",
            "0d82057cef5147c2b75814237090eb3c",
            "3a992d8a2ea140d3b9d192a3e88c7b02",
            "cb5ec1feabb849dd95a41600b02d82e4",
            "4af50e03e89f43f6ac78307276c94281",
            "64d27d43f6be4efb9267b0b5c7163cc1",
            "ad2639897cf14b90bb8ea43bcea05bb9",
            "08193717d9194062a417601d06d32b32"
          ]
        },
        "id": "HvojSvKmoWCN",
        "outputId": "b1f96f73-625d-40b8-fa17-23a8b0b686fb"
      },
      "outputs": [
        {
          "data": {
            "application/vnd.jupyter.widget-view+json": {
              "model_id": "2e083673078346f19dea0bbe3f907362",
              "version_major": 2,
              "version_minor": 0
            },
            "text/plain": [
              "Downloading (…)solve/main/vocab.txt:   0%|          | 0.00/232k [00:00<?, ?B/s]"
            ]
          },
          "metadata": {},
          "output_type": "display_data"
        },
        {
          "data": {
            "application/vnd.jupyter.widget-view+json": {
              "model_id": "41941337c34144cb8160c6f57fc73036",
              "version_major": 2,
              "version_minor": 0
            },
            "text/plain": [
              "Downloading (…)okenizer_config.json:   0%|          | 0.00/28.0 [00:00<?, ?B/s]"
            ]
          },
          "metadata": {},
          "output_type": "display_data"
        },
        {
          "data": {
            "application/vnd.jupyter.widget-view+json": {
              "model_id": "c3358a3614ee40f6b396b4de629c2814",
              "version_major": 2,
              "version_minor": 0
            },
            "text/plain": [
              "Downloading (…)lve/main/config.json:   0%|          | 0.00/570 [00:00<?, ?B/s]"
            ]
          },
          "metadata": {},
          "output_type": "display_data"
        },
        {
          "metadata": {
            "tags": null
          },
          "name": "stderr",
          "output_type": "stream",
          "text": [
            "<ipython-input-15-0c38d9a48ed8>:36: FutureWarning: suggest_loguniform has been deprecated in v3.0.0. This feature will be removed in v6.0.0. See https://github.com/optuna/optuna/releases/tag/v3.0.0. Use suggest_float(..., log=True) instead.\n",
            "  learning_rate = trial.suggest_loguniform('learning_rate', 1e-6, 1e-3)\n",
            "<ipython-input-15-0c38d9a48ed8>:37: FutureWarning: suggest_loguniform has been deprecated in v3.0.0. This feature will be removed in v6.0.0. See https://github.com/optuna/optuna/releases/tag/v3.0.0. Use suggest_float(..., log=True) instead.\n",
            "  weight_decay = trial.suggest_loguniform('weight_decay', 1e-6, 1e-3)\n"
          ]
        },
        {
          "data": {
            "application/vnd.jupyter.widget-view+json": {
              "model_id": "5af4bf5a507a4f9580c4914abce1c8e0",
              "version_major": 2,
              "version_minor": 0
            },
            "text/plain": [
              "Downloading model.safetensors:   0%|          | 0.00/440M [00:00<?, ?B/s]"
            ]
          },
          "metadata": {},
          "output_type": "display_data"
        },
        {
          "metadata": {
            "tags": null
          },
          "name": "stderr",
          "output_type": "stream",
          "text": [
            "Some weights of the model checkpoint at bert-base-uncased were not used when initializing BertForSequenceClassification: ['cls.seq_relationship.weight', 'cls.seq_relationship.bias', 'cls.predictions.transform.dense.bias', 'cls.predictions.transform.LayerNorm.bias', 'cls.predictions.transform.LayerNorm.weight', 'cls.predictions.transform.dense.weight', 'cls.predictions.bias']\n",
            "- This IS expected if you are initializing BertForSequenceClassification from the checkpoint of a model trained on another task or with another architecture (e.g. initializing a BertForSequenceClassification model from a BertForPreTraining model).\n",
            "- This IS NOT expected if you are initializing BertForSequenceClassification from the checkpoint of a model that you expect to be exactly identical (initializing a BertForSequenceClassification model from a BertForSequenceClassification model).\n",
            "Some weights of BertForSequenceClassification were not initialized from the model checkpoint at bert-base-uncased and are newly initialized: ['classifier.bias', 'classifier.weight']\n",
            "You should probably TRAIN this model on a down-stream task to be able to use it for predictions and inference.\n",
            "/usr/local/lib/python3.10/dist-packages/transformers/optimization.py:411: FutureWarning: This implementation of AdamW is deprecated and will be removed in a future version. Use the PyTorch implementation torch.optim.AdamW instead, or set `no_deprecation_warning=True` to disable this warning\n",
            "  warnings.warn(\n"
          ]
        },
        {
          "metadata": {
            "tags": null
          },
          "name": "stdout",
          "output_type": "stream",
          "text": [
            "Epoch 1 - Training Loss: 1.4067259530068956 - Accuracy: 0.3324077746925823 - F1 Score: 0.07603170429204721\n"
          ]
        },
        {
          "metadata": {
            "tags": null
          },
          "name": "stderr",
          "output_type": "stream",
          "text": [
            ""
          ]
        },
        {
          "metadata": {
            "tags": null
          },
          "name": "stdout",
          "output_type": "stream",
          "text": [
            "Epoch 2 - Training Loss: 1.4053502792223886 - Accuracy: 0.3422253074176914 - F1 Score: 0.20240142093310814\n"
          ]
        },
        {
          "metadata": {
            "tags": null
          },
          "name": "stderr",
          "output_type": "stream",
          "text": [
            ""
          ]
        },
        {
          "metadata": {
            "tags": null
          },
          "name": "stdout",
          "output_type": "stream",
          "text": [
            "Epoch 3 - Training Loss: 1.4035394319263768 - Accuracy: 0.3340936136453788 - F1 Score: 0.20240142093310814\n"
          ]
        },
        {
          "metadata": {
            "tags": null
          },
          "name": "stderr",
          "output_type": "stream",
          "text": [
            "<ipython-input-15-0c38d9a48ed8>:36: FutureWarning: suggest_loguniform has been deprecated in v3.0.0. This feature will be removed in v6.0.0. See https://github.com/optuna/optuna/releases/tag/v3.0.0. Use suggest_float(..., log=True) instead.\n",
            "  learning_rate = trial.suggest_loguniform('learning_rate', 1e-6, 1e-3)\n",
            "<ipython-input-15-0c38d9a48ed8>:37: FutureWarning: suggest_loguniform has been deprecated in v3.0.0. This feature will be removed in v6.0.0. See https://github.com/optuna/optuna/releases/tag/v3.0.0. Use suggest_float(..., log=True) instead.\n",
            "  weight_decay = trial.suggest_loguniform('weight_decay', 1e-6, 1e-3)\n",
            "Some weights of the model checkpoint at bert-base-uncased were not used when initializing BertForSequenceClassification: ['cls.seq_relationship.weight', 'cls.seq_relationship.bias', 'cls.predictions.transform.dense.bias', 'cls.predictions.transform.LayerNorm.bias', 'cls.predictions.transform.LayerNorm.weight', 'cls.predictions.transform.dense.weight', 'cls.predictions.bias']\n",
            "- This IS expected if you are initializing BertForSequenceClassification from the checkpoint of a model trained on another task or with another architecture (e.g. initializing a BertForSequenceClassification model from a BertForPreTraining model).\n",
            "- This IS NOT expected if you are initializing BertForSequenceClassification from the checkpoint of a model that you expect to be exactly identical (initializing a BertForSequenceClassification model from a BertForSequenceClassification model).\n",
            "Some weights of BertForSequenceClassification were not initialized from the model checkpoint at bert-base-uncased and are newly initialized: ['classifier.bias', 'classifier.weight']\n",
            "You should probably TRAIN this model on a down-stream task to be able to use it for predictions and inference.\n",
            "/usr/local/lib/python3.10/dist-packages/transformers/optimization.py:411: FutureWarning: This implementation of AdamW is deprecated and will be removed in a future version. Use the PyTorch implementation torch.optim.AdamW instead, or set `no_deprecation_warning=True` to disable this warning\n",
            "  warnings.warn(\n"
          ]
        },
        {
          "metadata": {
            "tags": null
          },
          "name": "stdout",
          "output_type": "stream",
          "text": [
            "Epoch 1 - Training Loss: 0.2686149192230094 - Accuracy: 0.9236414121380404 - F1 Score: 0.9591837401969234\n"
          ]
        },
        {
          "metadata": {
            "tags": null
          },
          "name": "stderr",
          "output_type": "stream",
          "text": [
            ""
          ]
        },
        {
          "metadata": {
            "tags": null
          },
          "name": "stdout",
          "output_type": "stream",
          "text": [
            "Epoch 2 - Training Loss: 0.13720092247498536 - Accuracy: 0.9645973819912733 - F1 Score: 0.9607240751917118\n"
          ]
        },
        {
          "output_type": "stream",
          "name": "stderr",
          "text": []
        },
        {
          "output_type": "stream",
          "name": "stdout",
          "text": [
            "Epoch 3 - Training Loss: 0.0909326334385033 - Accuracy: 0.9777865926219754 - F1 Score: 0.9651176131535377\n"
          ]
        },
        {
          "output_type": "stream",
          "name": "stderr",
          "text": [
            "<ipython-input-15-0c38d9a48ed8>:36: FutureWarning: suggest_loguniform has been deprecated in v3.0.0. This feature will be removed in v6.0.0. See https://github.com/optuna/optuna/releases/tag/v3.0.0. Use suggest_float(..., log=True) instead.\n",
            "  learning_rate = trial.suggest_loguniform('learning_rate', 1e-6, 1e-3)\n",
            "<ipython-input-15-0c38d9a48ed8>:37: FutureWarning: suggest_loguniform has been deprecated in v3.0.0. This feature will be removed in v6.0.0. See https://github.com/optuna/optuna/releases/tag/v3.0.0. Use suggest_float(..., log=True) instead.\n",
            "  weight_decay = trial.suggest_loguniform('weight_decay', 1e-6, 1e-3)\n",
            "Some weights of the model checkpoint at bert-base-uncased were not used when initializing BertForSequenceClassification: ['cls.seq_relationship.weight', 'cls.seq_relationship.bias', 'cls.predictions.transform.dense.bias', 'cls.predictions.transform.LayerNorm.bias', 'cls.predictions.transform.LayerNorm.weight', 'cls.predictions.transform.dense.weight', 'cls.predictions.bias']\n",
            "- This IS expected if you are initializing BertForSequenceClassification from the checkpoint of a model trained on another task or with another architecture (e.g. initializing a BertForSequenceClassification model from a BertForPreTraining model).\n",
            "- This IS NOT expected if you are initializing BertForSequenceClassification from the checkpoint of a model that you expect to be exactly identical (initializing a BertForSequenceClassification model from a BertForSequenceClassification model).\n",
            "Some weights of BertForSequenceClassification were not initialized from the model checkpoint at bert-base-uncased and are newly initialized: ['classifier.bias', 'classifier.weight']\n",
            "You should probably TRAIN this model on a down-stream task to be able to use it for predictions and inference.\n",
            "/usr/local/lib/python3.10/dist-packages/transformers/optimization.py:411: FutureWarning: This implementation of AdamW is deprecated and will be removed in a future version. Use the PyTorch implementation torch.optim.AdamW instead, or set `no_deprecation_warning=True` to disable this warning\n",
            "  warnings.warn(\n"
          ]
        },
        {
          "output_type": "stream",
          "name": "stdout",
          "text": [
            "Epoch 1 - Training Loss: 1.3606475091018313 - Accuracy: 0.3696945656485522 - F1 Score: 0.20240142093310814\n"
          ]
        },
        {
          "output_type": "stream",
          "name": "stderr",
          "text": []
        },
        {
          "output_type": "stream",
          "name": "stdout",
          "text": [
            "Epoch 2 - Training Loss: 1.34489420665614 - Accuracy: 0.3853629512098374 - F1 Score: 0.20240142093310814\n"
          ]
        },
        {
          "output_type": "stream",
          "name": "stderr",
          "text": []
        },
        {
          "output_type": "stream",
          "name": "stdout",
          "text": [
            "Epoch 3 - Training Loss: 1.3433464790108465 - Accuracy: 0.3846687822292741 - F1 Score: 0.20240142093310814\n",
            "Best accuracy: 0.9651070578905631\n",
            "Best parameters: {'learning_rate': 3.0003086122198434e-05, 'weight_decay': 0.0004268589645496483}\n"
          ]
        }
      ],
      "source": [
        "# Fungsi objektif untuk Optimasi Optuna\n",
        "def objective(trial):\n",
        "    # Definisikan hyperparameter yang akan dioptimasi\n",
        "    learning_rate = trial.suggest_loguniform('learning_rate', 1e-6, 1e-3)\n",
        "    weight_decay = trial.suggest_loguniform('weight_decay', 1e-6, 1e-3)\n",
        "\n",
        "    # Metode Pre-trained LLM (BERT)\n",
        "    model = BertForSequenceClassification.from_pretrained('bert-base-uncased', num_labels=4)\n",
        "    model.to('cuda')\n",
        "\n",
        "    # Mengoptimasi model menggunakan AdamW optimizer dengan hyperparameter yang dioptimasi\n",
        "    optimizer = AdamW(model.parameters(), lr=learning_rate, weight_decay=weight_decay)\n",
        "\n",
        "    # Training model dengan BERT\n",
        "\n",
        "    for epoch in range(3):\n",
        "        model.train()\n",
        "        train_loss = 0.0\n",
        "        correct_predictions = 0\n",
        "        total_predictions = 0\n",
        "\n",
        "        progress_bar = tqdm(train_dataloader, desc=f'Epoch {epoch + 1}', leave=False)\n",
        "        for batch in progress_bar:\n",
        "            input_ids, attention_mask, labels = batch\n",
        "            input_ids = input_ids.to(device)\n",
        "            attention_mask = attention_mask.to(device)\n",
        "            labels = labels.to(device)\n",
        "\n",
        "            outputs = model(input_ids, attention_mask=attention_mask, labels=labels)\n",
        "            loss = outputs.loss\n",
        "\n",
        "            optimizer.zero_grad()\n",
        "            loss.backward()\n",
        "            optimizer.step()\n",
        "\n",
        "            train_loss += loss.item()\n",
        "\n",
        "            _, predicted_labels = torch.max(outputs.logits, dim=1)\n",
        "            correct_predictions += (predicted_labels == labels).sum().item()\n",
        "            total_predictions += labels.size(0)\n",
        "\n",
        "            progress_bar.set_postfix({'training_loss': train_loss / len(train_dataloader),\n",
        "                                      'training_accuracy': correct_predictions / total_predictions})\n",
        "\n",
        "        # Evaluasi hasil klasifikasi dengan BERT pada data uji\n",
        "        model.eval()\n",
        "        y_pred_bert = []\n",
        "        y_true_bert = []\n",
        "\n",
        "        with torch.no_grad():\n",
        "            for batch in test_dataloader:\n",
        "                input_ids, attention_mask, labels = batch\n",
        "                input_ids = input_ids.to(device)\n",
        "                attention_mask = attention_mask.to(device)\n",
        "                labels = labels.to(device)\n",
        "\n",
        "                outputs = model(input_ids, attention_mask=attention_mask)\n",
        "\n",
        "                logits = outputs.logits\n",
        "                _, predicted_labels = torch.max(logits, dim=1)\n",
        "\n",
        "                y_pred_bert.extend(predicted_labels.tolist())\n",
        "                y_true_bert.extend(labels.tolist())\n",
        "\n",
        "        # Mengubah label angka menjadi label teks\n",
        "        label_mapping = {0: 'Household', 1: 'Books', 2: 'Electronics', 3: 'Clothing & Accessories'}\n",
        "        y_pred_bert = [label_mapping[pred] for pred in y_pred_bert]\n",
        "        y_true_bert = [label_mapping[true] for true in y_true_bert]\n",
        "\n",
        "        # Evaluasi hasil klasifikasi dengan BERT\n",
        "        accuracy = classification_report(y_true_bert, y_pred_bert, output_dict=True, zero_division=1)['accuracy']\n",
        "        f1 = f1_score(y_true_bert, y_pred_bert, average='weighted', zero_division=1)\n",
        "\n",
        "\n",
        "        print(f\"Epoch {epoch + 1} - Training Loss: {train_loss / len(train_dataloader)} - Accuracy: {correct_predictions / total_predictions} - F1 Score: {f1}\")\n",
        "\n",
        "    return accuracy\n",
        "\n",
        "# Fungsi untuk mengeksekusi Optimasi Optuna\n",
        "def optimize_model():\n",
        "    study = optuna.create_study(direction='maximize')\n",
        "    study.optimize(objective, n_trials=3)\n",
        "\n",
        "    print(f\"Best accuracy: {study.best_value}\")\n",
        "    print(f\"Best parameters: {study.best_params}\")\n",
        "\n",
        "# Eksekusi Optimasi Optuna\n",
        "optimize_model()"
      ]
    },
    {
      "cell_type": "markdown",
      "source": [
        "Best accuracy: 0.9651070578905631\n",
        "Ini adalah akurasi terbaik yang dicapai oleh model dengan konfigurasi hyperparameter terbaik yang ditemukan. Akurasi merupakan metrik yang mengukur sejauh mana model dapat memprediksi label kategori dengan benar. Nilai 0.9651070578905631 menunjukkan bahwa model mencapai akurasi sebesar 96.51% pada data uji.\n",
        "\n",
        "Best parameters:\n",
        "- `'learning_rate': 3.0003086122198434e-05, `\n",
        "- `'weight_decay': 0.0004268589645496483`\n",
        "\n",
        "\n",
        "Ini adalah kombinasi terbaik dari hyperparameter yang ditemukan oleh Optuna. Dalam kasus ini, nilai terbaik untuk learning rate adalah. Dengan menggunakan kombinasi hyperparameter terbaik yang ditemukan tersebut, kita dapat melatih model klasifikasi dengan konfigurasi yang optimal untuk mencapai kinerja yang lebih baik dalam memprediksi label kategori pada data baru."
      ],
      "metadata": {
        "id": "8LxktLbYcc6w"
      }
    },
    {
      "cell_type": "markdown",
      "source": [
        "### Model dengan Best Hyperparameter"
      ],
      "metadata": {
        "id": "B18VLmQOJALn"
      }
    },
    {
      "cell_type": "markdown",
      "source": [
        "Setelah mendapatkan kombinasi terbaik dari hyperparameter menggunakan Optuna, kita dapat menggunakannya dalam proses training model. Disini model, fungsi training, dsb dideklarasikan ulang agar kode dapat dijalankan walaupun runtime sudah terhapus."
      ],
      "metadata": {
        "id": "KGT3ff9QgsoL"
      }
    },
    {
      "cell_type": "code",
      "execution_count": null,
      "metadata": {
        "id": "62UhjAX-pj8Z",
        "colab": {
          "base_uri": "https://localhost:8080/"
        },
        "outputId": "42c24f72-7aa1-4ff3-d8a7-43bc94ca0dc6"
      },
      "outputs": [
        {
          "output_type": "stream",
          "name": "stderr",
          "text": [
            "Some weights of the model checkpoint at bert-base-uncased were not used when initializing BertForSequenceClassification: ['cls.predictions.transform.dense.weight', 'cls.predictions.transform.LayerNorm.bias', 'cls.predictions.transform.dense.bias', 'cls.predictions.bias', 'cls.seq_relationship.bias', 'cls.seq_relationship.weight', 'cls.predictions.transform.LayerNorm.weight']\n",
            "- This IS expected if you are initializing BertForSequenceClassification from the checkpoint of a model trained on another task or with another architecture (e.g. initializing a BertForSequenceClassification model from a BertForPreTraining model).\n",
            "- This IS NOT expected if you are initializing BertForSequenceClassification from the checkpoint of a model that you expect to be exactly identical (initializing a BertForSequenceClassification model from a BertForSequenceClassification model).\n",
            "Some weights of BertForSequenceClassification were not initialized from the model checkpoint at bert-base-uncased and are newly initialized: ['classifier.bias', 'classifier.weight']\n",
            "You should probably TRAIN this model on a down-stream task to be able to use it for predictions and inference.\n"
          ]
        },
        {
          "output_type": "stream",
          "name": "stdout",
          "text": [
            "Epoch 1 - Training Loss: 0.2772 - Training Accuracy: 0.9236\n"
          ]
        },
        {
          "output_type": "stream",
          "name": "stderr",
          "text": []
        },
        {
          "output_type": "stream",
          "name": "stdout",
          "text": [
            "Epoch 2 - Training Loss: 0.1329 - Training Accuracy: 0.9673\n"
          ]
        },
        {
          "output_type": "stream",
          "name": "stderr",
          "text": []
        },
        {
          "output_type": "stream",
          "name": "stdout",
          "text": [
            "Epoch 3 - Training Loss: 0.0820 - Training Accuracy: 0.9800\n",
            "                        precision    recall  f1-score   support\n",
            "\n",
            "                 Books       0.99      0.95      0.97       593\n",
            "Clothing & Accessories       0.98      0.99      0.99       447\n",
            "           Electronics       0.94      0.96      0.95       542\n",
            "             Household       0.96      0.97      0.97       940\n",
            "\n",
            "              accuracy                           0.97      2522\n",
            "             macro avg       0.97      0.97      0.97      2522\n",
            "          weighted avg       0.97      0.97      0.97      2522\n",
            "\n"
          ]
        }
      ],
      "source": [
        "tokenizer = BertTokenizer.from_pretrained('bert-base-uncased')\n",
        "model = BertForSequenceClassification.from_pretrained('bert-base-uncased', num_labels=4)\n",
        "\n",
        "# Muat best hyperparameter yang ditemukan melalui Optuna\n",
        "best_hyperparameters = {'learning_rate':  3.0003086122198434e-05, 'weight_decay': 0.0004268589645496483}  # Ganti dengan best hyperparameter Anda\n",
        "\n",
        "# Set parameter model dengan best hyperparameter\n",
        "model.to(device)\n",
        "optimizer = torch.optim.AdamW(model.parameters(), lr=best_hyperparameters['learning_rate'],\n",
        "                              weight_decay=best_hyperparameters['weight_decay'])\n",
        "\n",
        "# Definisikan fungsi untuk melatih model\n",
        "def train_model(model, optimizer, train_dataloader):\n",
        "    model.train()\n",
        "    train_loss = 0\n",
        "    correct_predictions = 0\n",
        "    total_predictions = 0\n",
        "\n",
        "    for batch in tqdm(train_dataloader, desc=\"Training\", leave=False):\n",
        "        input_ids, attention_mask, labels = batch\n",
        "        input_ids = input_ids.to(device)\n",
        "        attention_mask = attention_mask.to(device)\n",
        "        labels = labels.to(device)\n",
        "\n",
        "        optimizer.zero_grad()\n",
        "        outputs = model(input_ids, attention_mask=attention_mask, labels=labels)\n",
        "        loss = outputs.loss\n",
        "        loss.backward()\n",
        "        optimizer.step()\n",
        "\n",
        "        train_loss += loss.item()\n",
        "\n",
        "        _, predicted_labels = torch.max(outputs.logits, dim=1)\n",
        "        correct_predictions += (predicted_labels == labels).sum().item()\n",
        "        total_predictions += labels.size(0)\n",
        "\n",
        "    train_loss /= len(train_dataloader)\n",
        "    train_accuracy = correct_predictions / total_predictions\n",
        "\n",
        "    return train_loss, train_accuracy\n",
        "\n",
        "# Definisikan fungsi untuk melakukan evaluasi model\n",
        "def evaluate_model(model, test_dataloader):\n",
        "    model.eval()\n",
        "    y_pred = []\n",
        "    y_true = []\n",
        "\n",
        "    with torch.no_grad():\n",
        "        for batch in test_dataloader:\n",
        "            input_ids, attention_mask, labels = batch\n",
        "            input_ids = input_ids.to(device)\n",
        "            attention_mask = attention_mask.to(device)\n",
        "            labels = labels.to(device)\n",
        "\n",
        "            outputs = model(input_ids, attention_mask=attention_mask)\n",
        "            logits = outputs.logits\n",
        "            _, predicted_labels = torch.max(logits, dim=1)\n",
        "\n",
        "            y_pred.extend(predicted_labels.tolist())\n",
        "            y_true.extend(labels.tolist())\n",
        "\n",
        "    return y_true, y_pred\n",
        "\n",
        "# Muat data uji\n",
        "test_dataloader = DataLoader(test_dataset, batch_size=16, shuffle=False)\n",
        "\n",
        "# Lakukan pelatihan model\n",
        "num_epochs = 3  # Ganti dengan jumlah epoch yang diinginkan\n",
        "for epoch in range(num_epochs):\n",
        "    train_loss, train_accuracy = train_model(model, optimizer, train_dataloader)\n",
        "    print(f\"Epoch {epoch+1} - Training Loss: {train_loss:.4f} - Training Accuracy: {train_accuracy:.4f}\")\n",
        "\n",
        "# Evaluasi model menggunakan data uji\n",
        "y_true, y_pred = evaluate_model(model, test_dataloader)\n",
        "\n",
        "# Konversi label angka menjadi label teks\n",
        "label_mapping = {0: 'Household', 1: 'Books', 2: 'Electronics', 3: 'Clothing & Accessories'}\n",
        "y_true = [label_mapping[label] for label in y_true]\n",
        "y_pred = [label_mapping[label] for label in y_pred]\n",
        "\n",
        "# Tampilkan classification report\n",
        "print(classification_report(y_true, y_pred))"
      ]
    },
    {
      "cell_type": "markdown",
      "source": [
        "Dari hasil evaluasi tersebut, dapat dilihat bahwa model memiliki performa yang baik dengan nilai precision, recall, dan f1-score yang tinggi untuk setiap kelas. Selain itu, akurasi secara keseluruhan juga mencapai 98%, menunjukkan kemampuan model dalam memprediksi label kategori dengan benar.\n",
        "\n",
        "Secara umum model LLM ini telah mendapatkan hasil yang jauh lebih baik dibandingkan dengan teknik machine learning umum (pada kasus ini Naive Bayes dan Random Forest). Namun, konsekuensi dari menggunakan Bert model ini adalah proses trial random search yang memakan waktu sangat lama (1 jam+)."
      ],
      "metadata": {
        "id": "BTtWqu6IkuEi"
      }
    }
  ],
  "metadata": {
    "colab": {
      "provenance": [],
      "gpuType": "T4",
      "toc_visible": true,
      "include_colab_link": true
    },
    "kernelspec": {
      "display_name": "Python 3",
      "name": "python3"
    },
    "language_info": {
      "name": "python"
    },
    "widgets": {
      "application/vnd.jupyter.widget-state+json": {
        "2e083673078346f19dea0bbe3f907362": {
          "model_module": "@jupyter-widgets/controls",
          "model_name": "HBoxModel",
          "model_module_version": "1.5.0",
          "state": {
            "_dom_classes": [],
            "_model_module": "@jupyter-widgets/controls",
            "_model_module_version": "1.5.0",
            "_model_name": "HBoxModel",
            "_view_count": null,
            "_view_module": "@jupyter-widgets/controls",
            "_view_module_version": "1.5.0",
            "_view_name": "HBoxView",
            "box_style": "",
            "children": [
              "IPY_MODEL_b461005f56124c958289a3feed057e6f",
              "IPY_MODEL_4903e2606e014aa9a810984621bcd207",
              "IPY_MODEL_41a1d8907d1c4c6bae2deb9cad755b3e"
            ],
            "layout": "IPY_MODEL_eb4112e8ea964152b0b74763eec682eb"
          }
        },
        "b461005f56124c958289a3feed057e6f": {
          "model_module": "@jupyter-widgets/controls",
          "model_name": "HTMLModel",
          "model_module_version": "1.5.0",
          "state": {
            "_dom_classes": [],
            "_model_module": "@jupyter-widgets/controls",
            "_model_module_version": "1.5.0",
            "_model_name": "HTMLModel",
            "_view_count": null,
            "_view_module": "@jupyter-widgets/controls",
            "_view_module_version": "1.5.0",
            "_view_name": "HTMLView",
            "description": "",
            "description_tooltip": null,
            "layout": "IPY_MODEL_627bd6daef824b5d93972585c119741f",
            "placeholder": "​",
            "style": "IPY_MODEL_bd3ec93cbdc74aa89a248a75c9e53291",
            "value": "Downloading (…)solve/main/vocab.txt: 100%"
          }
        },
        "4903e2606e014aa9a810984621bcd207": {
          "model_module": "@jupyter-widgets/controls",
          "model_name": "FloatProgressModel",
          "model_module_version": "1.5.0",
          "state": {
            "_dom_classes": [],
            "_model_module": "@jupyter-widgets/controls",
            "_model_module_version": "1.5.0",
            "_model_name": "FloatProgressModel",
            "_view_count": null,
            "_view_module": "@jupyter-widgets/controls",
            "_view_module_version": "1.5.0",
            "_view_name": "ProgressView",
            "bar_style": "success",
            "description": "",
            "description_tooltip": null,
            "layout": "IPY_MODEL_afca59bd5d9745f89b7c1190c6f0aee9",
            "max": 231508,
            "min": 0,
            "orientation": "horizontal",
            "style": "IPY_MODEL_0253d8659d2448ca81a52f4e8160db16",
            "value": 231508
          }
        },
        "41a1d8907d1c4c6bae2deb9cad755b3e": {
          "model_module": "@jupyter-widgets/controls",
          "model_name": "HTMLModel",
          "model_module_version": "1.5.0",
          "state": {
            "_dom_classes": [],
            "_model_module": "@jupyter-widgets/controls",
            "_model_module_version": "1.5.0",
            "_model_name": "HTMLModel",
            "_view_count": null,
            "_view_module": "@jupyter-widgets/controls",
            "_view_module_version": "1.5.0",
            "_view_name": "HTMLView",
            "description": "",
            "description_tooltip": null,
            "layout": "IPY_MODEL_3725766ebad04e70bd2f3d1d9a301b3c",
            "placeholder": "​",
            "style": "IPY_MODEL_56d45e9a40d14b859cb38c6f84152a2e",
            "value": " 232k/232k [00:00&lt;00:00, 2.81MB/s]"
          }
        },
        "eb4112e8ea964152b0b74763eec682eb": {
          "model_module": "@jupyter-widgets/base",
          "model_name": "LayoutModel",
          "model_module_version": "1.2.0",
          "state": {
            "_model_module": "@jupyter-widgets/base",
            "_model_module_version": "1.2.0",
            "_model_name": "LayoutModel",
            "_view_count": null,
            "_view_module": "@jupyter-widgets/base",
            "_view_module_version": "1.2.0",
            "_view_name": "LayoutView",
            "align_content": null,
            "align_items": null,
            "align_self": null,
            "border": null,
            "bottom": null,
            "display": null,
            "flex": null,
            "flex_flow": null,
            "grid_area": null,
            "grid_auto_columns": null,
            "grid_auto_flow": null,
            "grid_auto_rows": null,
            "grid_column": null,
            "grid_gap": null,
            "grid_row": null,
            "grid_template_areas": null,
            "grid_template_columns": null,
            "grid_template_rows": null,
            "height": null,
            "justify_content": null,
            "justify_items": null,
            "left": null,
            "margin": null,
            "max_height": null,
            "max_width": null,
            "min_height": null,
            "min_width": null,
            "object_fit": null,
            "object_position": null,
            "order": null,
            "overflow": null,
            "overflow_x": null,
            "overflow_y": null,
            "padding": null,
            "right": null,
            "top": null,
            "visibility": null,
            "width": null
          }
        },
        "627bd6daef824b5d93972585c119741f": {
          "model_module": "@jupyter-widgets/base",
          "model_name": "LayoutModel",
          "model_module_version": "1.2.0",
          "state": {
            "_model_module": "@jupyter-widgets/base",
            "_model_module_version": "1.2.0",
            "_model_name": "LayoutModel",
            "_view_count": null,
            "_view_module": "@jupyter-widgets/base",
            "_view_module_version": "1.2.0",
            "_view_name": "LayoutView",
            "align_content": null,
            "align_items": null,
            "align_self": null,
            "border": null,
            "bottom": null,
            "display": null,
            "flex": null,
            "flex_flow": null,
            "grid_area": null,
            "grid_auto_columns": null,
            "grid_auto_flow": null,
            "grid_auto_rows": null,
            "grid_column": null,
            "grid_gap": null,
            "grid_row": null,
            "grid_template_areas": null,
            "grid_template_columns": null,
            "grid_template_rows": null,
            "height": null,
            "justify_content": null,
            "justify_items": null,
            "left": null,
            "margin": null,
            "max_height": null,
            "max_width": null,
            "min_height": null,
            "min_width": null,
            "object_fit": null,
            "object_position": null,
            "order": null,
            "overflow": null,
            "overflow_x": null,
            "overflow_y": null,
            "padding": null,
            "right": null,
            "top": null,
            "visibility": null,
            "width": null
          }
        },
        "bd3ec93cbdc74aa89a248a75c9e53291": {
          "model_module": "@jupyter-widgets/controls",
          "model_name": "DescriptionStyleModel",
          "model_module_version": "1.5.0",
          "state": {
            "_model_module": "@jupyter-widgets/controls",
            "_model_module_version": "1.5.0",
            "_model_name": "DescriptionStyleModel",
            "_view_count": null,
            "_view_module": "@jupyter-widgets/base",
            "_view_module_version": "1.2.0",
            "_view_name": "StyleView",
            "description_width": ""
          }
        },
        "afca59bd5d9745f89b7c1190c6f0aee9": {
          "model_module": "@jupyter-widgets/base",
          "model_name": "LayoutModel",
          "model_module_version": "1.2.0",
          "state": {
            "_model_module": "@jupyter-widgets/base",
            "_model_module_version": "1.2.0",
            "_model_name": "LayoutModel",
            "_view_count": null,
            "_view_module": "@jupyter-widgets/base",
            "_view_module_version": "1.2.0",
            "_view_name": "LayoutView",
            "align_content": null,
            "align_items": null,
            "align_self": null,
            "border": null,
            "bottom": null,
            "display": null,
            "flex": null,
            "flex_flow": null,
            "grid_area": null,
            "grid_auto_columns": null,
            "grid_auto_flow": null,
            "grid_auto_rows": null,
            "grid_column": null,
            "grid_gap": null,
            "grid_row": null,
            "grid_template_areas": null,
            "grid_template_columns": null,
            "grid_template_rows": null,
            "height": null,
            "justify_content": null,
            "justify_items": null,
            "left": null,
            "margin": null,
            "max_height": null,
            "max_width": null,
            "min_height": null,
            "min_width": null,
            "object_fit": null,
            "object_position": null,
            "order": null,
            "overflow": null,
            "overflow_x": null,
            "overflow_y": null,
            "padding": null,
            "right": null,
            "top": null,
            "visibility": null,
            "width": null
          }
        },
        "0253d8659d2448ca81a52f4e8160db16": {
          "model_module": "@jupyter-widgets/controls",
          "model_name": "ProgressStyleModel",
          "model_module_version": "1.5.0",
          "state": {
            "_model_module": "@jupyter-widgets/controls",
            "_model_module_version": "1.5.0",
            "_model_name": "ProgressStyleModel",
            "_view_count": null,
            "_view_module": "@jupyter-widgets/base",
            "_view_module_version": "1.2.0",
            "_view_name": "StyleView",
            "bar_color": null,
            "description_width": ""
          }
        },
        "3725766ebad04e70bd2f3d1d9a301b3c": {
          "model_module": "@jupyter-widgets/base",
          "model_name": "LayoutModel",
          "model_module_version": "1.2.0",
          "state": {
            "_model_module": "@jupyter-widgets/base",
            "_model_module_version": "1.2.0",
            "_model_name": "LayoutModel",
            "_view_count": null,
            "_view_module": "@jupyter-widgets/base",
            "_view_module_version": "1.2.0",
            "_view_name": "LayoutView",
            "align_content": null,
            "align_items": null,
            "align_self": null,
            "border": null,
            "bottom": null,
            "display": null,
            "flex": null,
            "flex_flow": null,
            "grid_area": null,
            "grid_auto_columns": null,
            "grid_auto_flow": null,
            "grid_auto_rows": null,
            "grid_column": null,
            "grid_gap": null,
            "grid_row": null,
            "grid_template_areas": null,
            "grid_template_columns": null,
            "grid_template_rows": null,
            "height": null,
            "justify_content": null,
            "justify_items": null,
            "left": null,
            "margin": null,
            "max_height": null,
            "max_width": null,
            "min_height": null,
            "min_width": null,
            "object_fit": null,
            "object_position": null,
            "order": null,
            "overflow": null,
            "overflow_x": null,
            "overflow_y": null,
            "padding": null,
            "right": null,
            "top": null,
            "visibility": null,
            "width": null
          }
        },
        "56d45e9a40d14b859cb38c6f84152a2e": {
          "model_module": "@jupyter-widgets/controls",
          "model_name": "DescriptionStyleModel",
          "model_module_version": "1.5.0",
          "state": {
            "_model_module": "@jupyter-widgets/controls",
            "_model_module_version": "1.5.0",
            "_model_name": "DescriptionStyleModel",
            "_view_count": null,
            "_view_module": "@jupyter-widgets/base",
            "_view_module_version": "1.2.0",
            "_view_name": "StyleView",
            "description_width": ""
          }
        },
        "41941337c34144cb8160c6f57fc73036": {
          "model_module": "@jupyter-widgets/controls",
          "model_name": "HBoxModel",
          "model_module_version": "1.5.0",
          "state": {
            "_dom_classes": [],
            "_model_module": "@jupyter-widgets/controls",
            "_model_module_version": "1.5.0",
            "_model_name": "HBoxModel",
            "_view_count": null,
            "_view_module": "@jupyter-widgets/controls",
            "_view_module_version": "1.5.0",
            "_view_name": "HBoxView",
            "box_style": "",
            "children": [
              "IPY_MODEL_e2357434bae241508cad23d4be7acd13",
              "IPY_MODEL_a2d4e91705a049ff8fb43361f0577814",
              "IPY_MODEL_09ce436f7d36422ea316ac2a2b3622d1"
            ],
            "layout": "IPY_MODEL_19b79827d63847938c228818d175225f"
          }
        },
        "e2357434bae241508cad23d4be7acd13": {
          "model_module": "@jupyter-widgets/controls",
          "model_name": "HTMLModel",
          "model_module_version": "1.5.0",
          "state": {
            "_dom_classes": [],
            "_model_module": "@jupyter-widgets/controls",
            "_model_module_version": "1.5.0",
            "_model_name": "HTMLModel",
            "_view_count": null,
            "_view_module": "@jupyter-widgets/controls",
            "_view_module_version": "1.5.0",
            "_view_name": "HTMLView",
            "description": "",
            "description_tooltip": null,
            "layout": "IPY_MODEL_4a6ff187790445b091e1e9b33b12c8fb",
            "placeholder": "​",
            "style": "IPY_MODEL_ad552ee6958c42d2bf900de024c02b7a",
            "value": "Downloading (…)okenizer_config.json: 100%"
          }
        },
        "a2d4e91705a049ff8fb43361f0577814": {
          "model_module": "@jupyter-widgets/controls",
          "model_name": "FloatProgressModel",
          "model_module_version": "1.5.0",
          "state": {
            "_dom_classes": [],
            "_model_module": "@jupyter-widgets/controls",
            "_model_module_version": "1.5.0",
            "_model_name": "FloatProgressModel",
            "_view_count": null,
            "_view_module": "@jupyter-widgets/controls",
            "_view_module_version": "1.5.0",
            "_view_name": "ProgressView",
            "bar_style": "success",
            "description": "",
            "description_tooltip": null,
            "layout": "IPY_MODEL_05547671dc684c21ab8a006b6f7945fb",
            "max": 28,
            "min": 0,
            "orientation": "horizontal",
            "style": "IPY_MODEL_9dd5af36fd78459fbe0ff02598c9a7d5",
            "value": 28
          }
        },
        "09ce436f7d36422ea316ac2a2b3622d1": {
          "model_module": "@jupyter-widgets/controls",
          "model_name": "HTMLModel",
          "model_module_version": "1.5.0",
          "state": {
            "_dom_classes": [],
            "_model_module": "@jupyter-widgets/controls",
            "_model_module_version": "1.5.0",
            "_model_name": "HTMLModel",
            "_view_count": null,
            "_view_module": "@jupyter-widgets/controls",
            "_view_module_version": "1.5.0",
            "_view_name": "HTMLView",
            "description": "",
            "description_tooltip": null,
            "layout": "IPY_MODEL_4ceac27e416f40008fbf4e5c37a7d7dc",
            "placeholder": "​",
            "style": "IPY_MODEL_760ed78d9b834b7fa2736d0c6823feec",
            "value": " 28.0/28.0 [00:00&lt;00:00, 1.70kB/s]"
          }
        },
        "19b79827d63847938c228818d175225f": {
          "model_module": "@jupyter-widgets/base",
          "model_name": "LayoutModel",
          "model_module_version": "1.2.0",
          "state": {
            "_model_module": "@jupyter-widgets/base",
            "_model_module_version": "1.2.0",
            "_model_name": "LayoutModel",
            "_view_count": null,
            "_view_module": "@jupyter-widgets/base",
            "_view_module_version": "1.2.0",
            "_view_name": "LayoutView",
            "align_content": null,
            "align_items": null,
            "align_self": null,
            "border": null,
            "bottom": null,
            "display": null,
            "flex": null,
            "flex_flow": null,
            "grid_area": null,
            "grid_auto_columns": null,
            "grid_auto_flow": null,
            "grid_auto_rows": null,
            "grid_column": null,
            "grid_gap": null,
            "grid_row": null,
            "grid_template_areas": null,
            "grid_template_columns": null,
            "grid_template_rows": null,
            "height": null,
            "justify_content": null,
            "justify_items": null,
            "left": null,
            "margin": null,
            "max_height": null,
            "max_width": null,
            "min_height": null,
            "min_width": null,
            "object_fit": null,
            "object_position": null,
            "order": null,
            "overflow": null,
            "overflow_x": null,
            "overflow_y": null,
            "padding": null,
            "right": null,
            "top": null,
            "visibility": null,
            "width": null
          }
        },
        "4a6ff187790445b091e1e9b33b12c8fb": {
          "model_module": "@jupyter-widgets/base",
          "model_name": "LayoutModel",
          "model_module_version": "1.2.0",
          "state": {
            "_model_module": "@jupyter-widgets/base",
            "_model_module_version": "1.2.0",
            "_model_name": "LayoutModel",
            "_view_count": null,
            "_view_module": "@jupyter-widgets/base",
            "_view_module_version": "1.2.0",
            "_view_name": "LayoutView",
            "align_content": null,
            "align_items": null,
            "align_self": null,
            "border": null,
            "bottom": null,
            "display": null,
            "flex": null,
            "flex_flow": null,
            "grid_area": null,
            "grid_auto_columns": null,
            "grid_auto_flow": null,
            "grid_auto_rows": null,
            "grid_column": null,
            "grid_gap": null,
            "grid_row": null,
            "grid_template_areas": null,
            "grid_template_columns": null,
            "grid_template_rows": null,
            "height": null,
            "justify_content": null,
            "justify_items": null,
            "left": null,
            "margin": null,
            "max_height": null,
            "max_width": null,
            "min_height": null,
            "min_width": null,
            "object_fit": null,
            "object_position": null,
            "order": null,
            "overflow": null,
            "overflow_x": null,
            "overflow_y": null,
            "padding": null,
            "right": null,
            "top": null,
            "visibility": null,
            "width": null
          }
        },
        "ad552ee6958c42d2bf900de024c02b7a": {
          "model_module": "@jupyter-widgets/controls",
          "model_name": "DescriptionStyleModel",
          "model_module_version": "1.5.0",
          "state": {
            "_model_module": "@jupyter-widgets/controls",
            "_model_module_version": "1.5.0",
            "_model_name": "DescriptionStyleModel",
            "_view_count": null,
            "_view_module": "@jupyter-widgets/base",
            "_view_module_version": "1.2.0",
            "_view_name": "StyleView",
            "description_width": ""
          }
        },
        "05547671dc684c21ab8a006b6f7945fb": {
          "model_module": "@jupyter-widgets/base",
          "model_name": "LayoutModel",
          "model_module_version": "1.2.0",
          "state": {
            "_model_module": "@jupyter-widgets/base",
            "_model_module_version": "1.2.0",
            "_model_name": "LayoutModel",
            "_view_count": null,
            "_view_module": "@jupyter-widgets/base",
            "_view_module_version": "1.2.0",
            "_view_name": "LayoutView",
            "align_content": null,
            "align_items": null,
            "align_self": null,
            "border": null,
            "bottom": null,
            "display": null,
            "flex": null,
            "flex_flow": null,
            "grid_area": null,
            "grid_auto_columns": null,
            "grid_auto_flow": null,
            "grid_auto_rows": null,
            "grid_column": null,
            "grid_gap": null,
            "grid_row": null,
            "grid_template_areas": null,
            "grid_template_columns": null,
            "grid_template_rows": null,
            "height": null,
            "justify_content": null,
            "justify_items": null,
            "left": null,
            "margin": null,
            "max_height": null,
            "max_width": null,
            "min_height": null,
            "min_width": null,
            "object_fit": null,
            "object_position": null,
            "order": null,
            "overflow": null,
            "overflow_x": null,
            "overflow_y": null,
            "padding": null,
            "right": null,
            "top": null,
            "visibility": null,
            "width": null
          }
        },
        "9dd5af36fd78459fbe0ff02598c9a7d5": {
          "model_module": "@jupyter-widgets/controls",
          "model_name": "ProgressStyleModel",
          "model_module_version": "1.5.0",
          "state": {
            "_model_module": "@jupyter-widgets/controls",
            "_model_module_version": "1.5.0",
            "_model_name": "ProgressStyleModel",
            "_view_count": null,
            "_view_module": "@jupyter-widgets/base",
            "_view_module_version": "1.2.0",
            "_view_name": "StyleView",
            "bar_color": null,
            "description_width": ""
          }
        },
        "4ceac27e416f40008fbf4e5c37a7d7dc": {
          "model_module": "@jupyter-widgets/base",
          "model_name": "LayoutModel",
          "model_module_version": "1.2.0",
          "state": {
            "_model_module": "@jupyter-widgets/base",
            "_model_module_version": "1.2.0",
            "_model_name": "LayoutModel",
            "_view_count": null,
            "_view_module": "@jupyter-widgets/base",
            "_view_module_version": "1.2.0",
            "_view_name": "LayoutView",
            "align_content": null,
            "align_items": null,
            "align_self": null,
            "border": null,
            "bottom": null,
            "display": null,
            "flex": null,
            "flex_flow": null,
            "grid_area": null,
            "grid_auto_columns": null,
            "grid_auto_flow": null,
            "grid_auto_rows": null,
            "grid_column": null,
            "grid_gap": null,
            "grid_row": null,
            "grid_template_areas": null,
            "grid_template_columns": null,
            "grid_template_rows": null,
            "height": null,
            "justify_content": null,
            "justify_items": null,
            "left": null,
            "margin": null,
            "max_height": null,
            "max_width": null,
            "min_height": null,
            "min_width": null,
            "object_fit": null,
            "object_position": null,
            "order": null,
            "overflow": null,
            "overflow_x": null,
            "overflow_y": null,
            "padding": null,
            "right": null,
            "top": null,
            "visibility": null,
            "width": null
          }
        },
        "760ed78d9b834b7fa2736d0c6823feec": {
          "model_module": "@jupyter-widgets/controls",
          "model_name": "DescriptionStyleModel",
          "model_module_version": "1.5.0",
          "state": {
            "_model_module": "@jupyter-widgets/controls",
            "_model_module_version": "1.5.0",
            "_model_name": "DescriptionStyleModel",
            "_view_count": null,
            "_view_module": "@jupyter-widgets/base",
            "_view_module_version": "1.2.0",
            "_view_name": "StyleView",
            "description_width": ""
          }
        },
        "c3358a3614ee40f6b396b4de629c2814": {
          "model_module": "@jupyter-widgets/controls",
          "model_name": "HBoxModel",
          "model_module_version": "1.5.0",
          "state": {
            "_dom_classes": [],
            "_model_module": "@jupyter-widgets/controls",
            "_model_module_version": "1.5.0",
            "_model_name": "HBoxModel",
            "_view_count": null,
            "_view_module": "@jupyter-widgets/controls",
            "_view_module_version": "1.5.0",
            "_view_name": "HBoxView",
            "box_style": "",
            "children": [
              "IPY_MODEL_80fe14cc15f24e33bffa38436bf55b4c",
              "IPY_MODEL_d4467f20efae4fceb4daab3cddbb2d9f",
              "IPY_MODEL_68b289b2704b40289b2bff3d3cdd4022"
            ],
            "layout": "IPY_MODEL_dd820122ce674a5bbe08b7844cb44a86"
          }
        },
        "80fe14cc15f24e33bffa38436bf55b4c": {
          "model_module": "@jupyter-widgets/controls",
          "model_name": "HTMLModel",
          "model_module_version": "1.5.0",
          "state": {
            "_dom_classes": [],
            "_model_module": "@jupyter-widgets/controls",
            "_model_module_version": "1.5.0",
            "_model_name": "HTMLModel",
            "_view_count": null,
            "_view_module": "@jupyter-widgets/controls",
            "_view_module_version": "1.5.0",
            "_view_name": "HTMLView",
            "description": "",
            "description_tooltip": null,
            "layout": "IPY_MODEL_a4e0620ae55e4ce7925fd0daee15f90c",
            "placeholder": "​",
            "style": "IPY_MODEL_69173c732cf64098a894e5b47a7b81a3",
            "value": "Downloading (…)lve/main/config.json: 100%"
          }
        },
        "d4467f20efae4fceb4daab3cddbb2d9f": {
          "model_module": "@jupyter-widgets/controls",
          "model_name": "FloatProgressModel",
          "model_module_version": "1.5.0",
          "state": {
            "_dom_classes": [],
            "_model_module": "@jupyter-widgets/controls",
            "_model_module_version": "1.5.0",
            "_model_name": "FloatProgressModel",
            "_view_count": null,
            "_view_module": "@jupyter-widgets/controls",
            "_view_module_version": "1.5.0",
            "_view_name": "ProgressView",
            "bar_style": "success",
            "description": "",
            "description_tooltip": null,
            "layout": "IPY_MODEL_b5ecb1a1ab1a4851aa46275f885d15a5",
            "max": 570,
            "min": 0,
            "orientation": "horizontal",
            "style": "IPY_MODEL_bd52510ba3a74ee298b87ba5782985e4",
            "value": 570
          }
        },
        "68b289b2704b40289b2bff3d3cdd4022": {
          "model_module": "@jupyter-widgets/controls",
          "model_name": "HTMLModel",
          "model_module_version": "1.5.0",
          "state": {
            "_dom_classes": [],
            "_model_module": "@jupyter-widgets/controls",
            "_model_module_version": "1.5.0",
            "_model_name": "HTMLModel",
            "_view_count": null,
            "_view_module": "@jupyter-widgets/controls",
            "_view_module_version": "1.5.0",
            "_view_name": "HTMLView",
            "description": "",
            "description_tooltip": null,
            "layout": "IPY_MODEL_276b6fd7ca3f41e2a048b8902ea2fb8f",
            "placeholder": "​",
            "style": "IPY_MODEL_ec25747b8fee42318ccd1b33bf5809f9",
            "value": " 570/570 [00:00&lt;00:00, 30.1kB/s]"
          }
        },
        "dd820122ce674a5bbe08b7844cb44a86": {
          "model_module": "@jupyter-widgets/base",
          "model_name": "LayoutModel",
          "model_module_version": "1.2.0",
          "state": {
            "_model_module": "@jupyter-widgets/base",
            "_model_module_version": "1.2.0",
            "_model_name": "LayoutModel",
            "_view_count": null,
            "_view_module": "@jupyter-widgets/base",
            "_view_module_version": "1.2.0",
            "_view_name": "LayoutView",
            "align_content": null,
            "align_items": null,
            "align_self": null,
            "border": null,
            "bottom": null,
            "display": null,
            "flex": null,
            "flex_flow": null,
            "grid_area": null,
            "grid_auto_columns": null,
            "grid_auto_flow": null,
            "grid_auto_rows": null,
            "grid_column": null,
            "grid_gap": null,
            "grid_row": null,
            "grid_template_areas": null,
            "grid_template_columns": null,
            "grid_template_rows": null,
            "height": null,
            "justify_content": null,
            "justify_items": null,
            "left": null,
            "margin": null,
            "max_height": null,
            "max_width": null,
            "min_height": null,
            "min_width": null,
            "object_fit": null,
            "object_position": null,
            "order": null,
            "overflow": null,
            "overflow_x": null,
            "overflow_y": null,
            "padding": null,
            "right": null,
            "top": null,
            "visibility": null,
            "width": null
          }
        },
        "a4e0620ae55e4ce7925fd0daee15f90c": {
          "model_module": "@jupyter-widgets/base",
          "model_name": "LayoutModel",
          "model_module_version": "1.2.0",
          "state": {
            "_model_module": "@jupyter-widgets/base",
            "_model_module_version": "1.2.0",
            "_model_name": "LayoutModel",
            "_view_count": null,
            "_view_module": "@jupyter-widgets/base",
            "_view_module_version": "1.2.0",
            "_view_name": "LayoutView",
            "align_content": null,
            "align_items": null,
            "align_self": null,
            "border": null,
            "bottom": null,
            "display": null,
            "flex": null,
            "flex_flow": null,
            "grid_area": null,
            "grid_auto_columns": null,
            "grid_auto_flow": null,
            "grid_auto_rows": null,
            "grid_column": null,
            "grid_gap": null,
            "grid_row": null,
            "grid_template_areas": null,
            "grid_template_columns": null,
            "grid_template_rows": null,
            "height": null,
            "justify_content": null,
            "justify_items": null,
            "left": null,
            "margin": null,
            "max_height": null,
            "max_width": null,
            "min_height": null,
            "min_width": null,
            "object_fit": null,
            "object_position": null,
            "order": null,
            "overflow": null,
            "overflow_x": null,
            "overflow_y": null,
            "padding": null,
            "right": null,
            "top": null,
            "visibility": null,
            "width": null
          }
        },
        "69173c732cf64098a894e5b47a7b81a3": {
          "model_module": "@jupyter-widgets/controls",
          "model_name": "DescriptionStyleModel",
          "model_module_version": "1.5.0",
          "state": {
            "_model_module": "@jupyter-widgets/controls",
            "_model_module_version": "1.5.0",
            "_model_name": "DescriptionStyleModel",
            "_view_count": null,
            "_view_module": "@jupyter-widgets/base",
            "_view_module_version": "1.2.0",
            "_view_name": "StyleView",
            "description_width": ""
          }
        },
        "b5ecb1a1ab1a4851aa46275f885d15a5": {
          "model_module": "@jupyter-widgets/base",
          "model_name": "LayoutModel",
          "model_module_version": "1.2.0",
          "state": {
            "_model_module": "@jupyter-widgets/base",
            "_model_module_version": "1.2.0",
            "_model_name": "LayoutModel",
            "_view_count": null,
            "_view_module": "@jupyter-widgets/base",
            "_view_module_version": "1.2.0",
            "_view_name": "LayoutView",
            "align_content": null,
            "align_items": null,
            "align_self": null,
            "border": null,
            "bottom": null,
            "display": null,
            "flex": null,
            "flex_flow": null,
            "grid_area": null,
            "grid_auto_columns": null,
            "grid_auto_flow": null,
            "grid_auto_rows": null,
            "grid_column": null,
            "grid_gap": null,
            "grid_row": null,
            "grid_template_areas": null,
            "grid_template_columns": null,
            "grid_template_rows": null,
            "height": null,
            "justify_content": null,
            "justify_items": null,
            "left": null,
            "margin": null,
            "max_height": null,
            "max_width": null,
            "min_height": null,
            "min_width": null,
            "object_fit": null,
            "object_position": null,
            "order": null,
            "overflow": null,
            "overflow_x": null,
            "overflow_y": null,
            "padding": null,
            "right": null,
            "top": null,
            "visibility": null,
            "width": null
          }
        },
        "bd52510ba3a74ee298b87ba5782985e4": {
          "model_module": "@jupyter-widgets/controls",
          "model_name": "ProgressStyleModel",
          "model_module_version": "1.5.0",
          "state": {
            "_model_module": "@jupyter-widgets/controls",
            "_model_module_version": "1.5.0",
            "_model_name": "ProgressStyleModel",
            "_view_count": null,
            "_view_module": "@jupyter-widgets/base",
            "_view_module_version": "1.2.0",
            "_view_name": "StyleView",
            "bar_color": null,
            "description_width": ""
          }
        },
        "276b6fd7ca3f41e2a048b8902ea2fb8f": {
          "model_module": "@jupyter-widgets/base",
          "model_name": "LayoutModel",
          "model_module_version": "1.2.0",
          "state": {
            "_model_module": "@jupyter-widgets/base",
            "_model_module_version": "1.2.0",
            "_model_name": "LayoutModel",
            "_view_count": null,
            "_view_module": "@jupyter-widgets/base",
            "_view_module_version": "1.2.0",
            "_view_name": "LayoutView",
            "align_content": null,
            "align_items": null,
            "align_self": null,
            "border": null,
            "bottom": null,
            "display": null,
            "flex": null,
            "flex_flow": null,
            "grid_area": null,
            "grid_auto_columns": null,
            "grid_auto_flow": null,
            "grid_auto_rows": null,
            "grid_column": null,
            "grid_gap": null,
            "grid_row": null,
            "grid_template_areas": null,
            "grid_template_columns": null,
            "grid_template_rows": null,
            "height": null,
            "justify_content": null,
            "justify_items": null,
            "left": null,
            "margin": null,
            "max_height": null,
            "max_width": null,
            "min_height": null,
            "min_width": null,
            "object_fit": null,
            "object_position": null,
            "order": null,
            "overflow": null,
            "overflow_x": null,
            "overflow_y": null,
            "padding": null,
            "right": null,
            "top": null,
            "visibility": null,
            "width": null
          }
        },
        "ec25747b8fee42318ccd1b33bf5809f9": {
          "model_module": "@jupyter-widgets/controls",
          "model_name": "DescriptionStyleModel",
          "model_module_version": "1.5.0",
          "state": {
            "_model_module": "@jupyter-widgets/controls",
            "_model_module_version": "1.5.0",
            "_model_name": "DescriptionStyleModel",
            "_view_count": null,
            "_view_module": "@jupyter-widgets/base",
            "_view_module_version": "1.2.0",
            "_view_name": "StyleView",
            "description_width": ""
          }
        },
        "5af4bf5a507a4f9580c4914abce1c8e0": {
          "model_module": "@jupyter-widgets/controls",
          "model_name": "HBoxModel",
          "model_module_version": "1.5.0",
          "state": {
            "_dom_classes": [],
            "_model_module": "@jupyter-widgets/controls",
            "_model_module_version": "1.5.0",
            "_model_name": "HBoxModel",
            "_view_count": null,
            "_view_module": "@jupyter-widgets/controls",
            "_view_module_version": "1.5.0",
            "_view_name": "HBoxView",
            "box_style": "",
            "children": [
              "IPY_MODEL_87e595e821b8424089b6a81e100c8970",
              "IPY_MODEL_906095ffc92647dfaf401f3efb66e752",
              "IPY_MODEL_39d0dd0be89d4db68b9cd0e95e2a9b58"
            ],
            "layout": "IPY_MODEL_0d82057cef5147c2b75814237090eb3c"
          }
        },
        "87e595e821b8424089b6a81e100c8970": {
          "model_module": "@jupyter-widgets/controls",
          "model_name": "HTMLModel",
          "model_module_version": "1.5.0",
          "state": {
            "_dom_classes": [],
            "_model_module": "@jupyter-widgets/controls",
            "_model_module_version": "1.5.0",
            "_model_name": "HTMLModel",
            "_view_count": null,
            "_view_module": "@jupyter-widgets/controls",
            "_view_module_version": "1.5.0",
            "_view_name": "HTMLView",
            "description": "",
            "description_tooltip": null,
            "layout": "IPY_MODEL_3a992d8a2ea140d3b9d192a3e88c7b02",
            "placeholder": "​",
            "style": "IPY_MODEL_cb5ec1feabb849dd95a41600b02d82e4",
            "value": "Downloading model.safetensors: 100%"
          }
        },
        "906095ffc92647dfaf401f3efb66e752": {
          "model_module": "@jupyter-widgets/controls",
          "model_name": "FloatProgressModel",
          "model_module_version": "1.5.0",
          "state": {
            "_dom_classes": [],
            "_model_module": "@jupyter-widgets/controls",
            "_model_module_version": "1.5.0",
            "_model_name": "FloatProgressModel",
            "_view_count": null,
            "_view_module": "@jupyter-widgets/controls",
            "_view_module_version": "1.5.0",
            "_view_name": "ProgressView",
            "bar_style": "success",
            "description": "",
            "description_tooltip": null,
            "layout": "IPY_MODEL_4af50e03e89f43f6ac78307276c94281",
            "max": 440449768,
            "min": 0,
            "orientation": "horizontal",
            "style": "IPY_MODEL_64d27d43f6be4efb9267b0b5c7163cc1",
            "value": 440449768
          }
        },
        "39d0dd0be89d4db68b9cd0e95e2a9b58": {
          "model_module": "@jupyter-widgets/controls",
          "model_name": "HTMLModel",
          "model_module_version": "1.5.0",
          "state": {
            "_dom_classes": [],
            "_model_module": "@jupyter-widgets/controls",
            "_model_module_version": "1.5.0",
            "_model_name": "HTMLModel",
            "_view_count": null,
            "_view_module": "@jupyter-widgets/controls",
            "_view_module_version": "1.5.0",
            "_view_name": "HTMLView",
            "description": "",
            "description_tooltip": null,
            "layout": "IPY_MODEL_ad2639897cf14b90bb8ea43bcea05bb9",
            "placeholder": "​",
            "style": "IPY_MODEL_08193717d9194062a417601d06d32b32",
            "value": " 440M/440M [00:06&lt;00:00, 83.0MB/s]"
          }
        },
        "0d82057cef5147c2b75814237090eb3c": {
          "model_module": "@jupyter-widgets/base",
          "model_name": "LayoutModel",
          "model_module_version": "1.2.0",
          "state": {
            "_model_module": "@jupyter-widgets/base",
            "_model_module_version": "1.2.0",
            "_model_name": "LayoutModel",
            "_view_count": null,
            "_view_module": "@jupyter-widgets/base",
            "_view_module_version": "1.2.0",
            "_view_name": "LayoutView",
            "align_content": null,
            "align_items": null,
            "align_self": null,
            "border": null,
            "bottom": null,
            "display": null,
            "flex": null,
            "flex_flow": null,
            "grid_area": null,
            "grid_auto_columns": null,
            "grid_auto_flow": null,
            "grid_auto_rows": null,
            "grid_column": null,
            "grid_gap": null,
            "grid_row": null,
            "grid_template_areas": null,
            "grid_template_columns": null,
            "grid_template_rows": null,
            "height": null,
            "justify_content": null,
            "justify_items": null,
            "left": null,
            "margin": null,
            "max_height": null,
            "max_width": null,
            "min_height": null,
            "min_width": null,
            "object_fit": null,
            "object_position": null,
            "order": null,
            "overflow": null,
            "overflow_x": null,
            "overflow_y": null,
            "padding": null,
            "right": null,
            "top": null,
            "visibility": null,
            "width": null
          }
        },
        "3a992d8a2ea140d3b9d192a3e88c7b02": {
          "model_module": "@jupyter-widgets/base",
          "model_name": "LayoutModel",
          "model_module_version": "1.2.0",
          "state": {
            "_model_module": "@jupyter-widgets/base",
            "_model_module_version": "1.2.0",
            "_model_name": "LayoutModel",
            "_view_count": null,
            "_view_module": "@jupyter-widgets/base",
            "_view_module_version": "1.2.0",
            "_view_name": "LayoutView",
            "align_content": null,
            "align_items": null,
            "align_self": null,
            "border": null,
            "bottom": null,
            "display": null,
            "flex": null,
            "flex_flow": null,
            "grid_area": null,
            "grid_auto_columns": null,
            "grid_auto_flow": null,
            "grid_auto_rows": null,
            "grid_column": null,
            "grid_gap": null,
            "grid_row": null,
            "grid_template_areas": null,
            "grid_template_columns": null,
            "grid_template_rows": null,
            "height": null,
            "justify_content": null,
            "justify_items": null,
            "left": null,
            "margin": null,
            "max_height": null,
            "max_width": null,
            "min_height": null,
            "min_width": null,
            "object_fit": null,
            "object_position": null,
            "order": null,
            "overflow": null,
            "overflow_x": null,
            "overflow_y": null,
            "padding": null,
            "right": null,
            "top": null,
            "visibility": null,
            "width": null
          }
        },
        "cb5ec1feabb849dd95a41600b02d82e4": {
          "model_module": "@jupyter-widgets/controls",
          "model_name": "DescriptionStyleModel",
          "model_module_version": "1.5.0",
          "state": {
            "_model_module": "@jupyter-widgets/controls",
            "_model_module_version": "1.5.0",
            "_model_name": "DescriptionStyleModel",
            "_view_count": null,
            "_view_module": "@jupyter-widgets/base",
            "_view_module_version": "1.2.0",
            "_view_name": "StyleView",
            "description_width": ""
          }
        },
        "4af50e03e89f43f6ac78307276c94281": {
          "model_module": "@jupyter-widgets/base",
          "model_name": "LayoutModel",
          "model_module_version": "1.2.0",
          "state": {
            "_model_module": "@jupyter-widgets/base",
            "_model_module_version": "1.2.0",
            "_model_name": "LayoutModel",
            "_view_count": null,
            "_view_module": "@jupyter-widgets/base",
            "_view_module_version": "1.2.0",
            "_view_name": "LayoutView",
            "align_content": null,
            "align_items": null,
            "align_self": null,
            "border": null,
            "bottom": null,
            "display": null,
            "flex": null,
            "flex_flow": null,
            "grid_area": null,
            "grid_auto_columns": null,
            "grid_auto_flow": null,
            "grid_auto_rows": null,
            "grid_column": null,
            "grid_gap": null,
            "grid_row": null,
            "grid_template_areas": null,
            "grid_template_columns": null,
            "grid_template_rows": null,
            "height": null,
            "justify_content": null,
            "justify_items": null,
            "left": null,
            "margin": null,
            "max_height": null,
            "max_width": null,
            "min_height": null,
            "min_width": null,
            "object_fit": null,
            "object_position": null,
            "order": null,
            "overflow": null,
            "overflow_x": null,
            "overflow_y": null,
            "padding": null,
            "right": null,
            "top": null,
            "visibility": null,
            "width": null
          }
        },
        "64d27d43f6be4efb9267b0b5c7163cc1": {
          "model_module": "@jupyter-widgets/controls",
          "model_name": "ProgressStyleModel",
          "model_module_version": "1.5.0",
          "state": {
            "_model_module": "@jupyter-widgets/controls",
            "_model_module_version": "1.5.0",
            "_model_name": "ProgressStyleModel",
            "_view_count": null,
            "_view_module": "@jupyter-widgets/base",
            "_view_module_version": "1.2.0",
            "_view_name": "StyleView",
            "bar_color": null,
            "description_width": ""
          }
        },
        "ad2639897cf14b90bb8ea43bcea05bb9": {
          "model_module": "@jupyter-widgets/base",
          "model_name": "LayoutModel",
          "model_module_version": "1.2.0",
          "state": {
            "_model_module": "@jupyter-widgets/base",
            "_model_module_version": "1.2.0",
            "_model_name": "LayoutModel",
            "_view_count": null,
            "_view_module": "@jupyter-widgets/base",
            "_view_module_version": "1.2.0",
            "_view_name": "LayoutView",
            "align_content": null,
            "align_items": null,
            "align_self": null,
            "border": null,
            "bottom": null,
            "display": null,
            "flex": null,
            "flex_flow": null,
            "grid_area": null,
            "grid_auto_columns": null,
            "grid_auto_flow": null,
            "grid_auto_rows": null,
            "grid_column": null,
            "grid_gap": null,
            "grid_row": null,
            "grid_template_areas": null,
            "grid_template_columns": null,
            "grid_template_rows": null,
            "height": null,
            "justify_content": null,
            "justify_items": null,
            "left": null,
            "margin": null,
            "max_height": null,
            "max_width": null,
            "min_height": null,
            "min_width": null,
            "object_fit": null,
            "object_position": null,
            "order": null,
            "overflow": null,
            "overflow_x": null,
            "overflow_y": null,
            "padding": null,
            "right": null,
            "top": null,
            "visibility": null,
            "width": null
          }
        },
        "08193717d9194062a417601d06d32b32": {
          "model_module": "@jupyter-widgets/controls",
          "model_name": "DescriptionStyleModel",
          "model_module_version": "1.5.0",
          "state": {
            "_model_module": "@jupyter-widgets/controls",
            "_model_module_version": "1.5.0",
            "_model_name": "DescriptionStyleModel",
            "_view_count": null,
            "_view_module": "@jupyter-widgets/base",
            "_view_module_version": "1.2.0",
            "_view_name": "StyleView",
            "description_width": ""
          }
        }
      }
    }
  },
  "nbformat": 4,
  "nbformat_minor": 0
}